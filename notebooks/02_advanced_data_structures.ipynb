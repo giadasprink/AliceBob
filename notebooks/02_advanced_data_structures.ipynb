{
 "metadata": {
  "name": ""
 },
 "nbformat": 3,
 "nbformat_minor": 0,
 "worksheets": [
  {
   "cells": [
    {
     "cell_type": "markdown",
     "metadata": {},
     "source": [
      "<style>\n",
      "div.cell, div.text_cell_render{\n",
      "  max-width:750px;\n",
      "  margin-left:auto;\n",
      "  margin-right:auto;\n",
      "}\n",
      "\n",
      ".rendered_html\n",
      "{\n",
      "  font-size: 140%;\n",
      "  }\n",
      "\n",
      ".rendered_html li\n",
      "{\n",
      "  line-height: 1.8;\n",
      "  }\n",
      "\n",
      ".rendered_html h1, h2 {\n",
      "  text-align:center;\n",
      "  font-familly:\"Charis SIL\", serif;\n",
      "}\n",
      "\n",
      ".input_prompt, .CodeMirror-lines, .output_area\n",
      "{\n",
      "  font-family: Consolas;\n",
      "  font-size: 120%;\n",
      "  }\n",
      "</style>"
     ]
    },
    {
     "cell_type": "markdown",
     "metadata": {},
     "source": [
      "Advanced Data Structures\n",
      "========================\n",
      "\n",
      "### There are four types of collections in Python\n",
      "(known as \"Sequence objects\")\n",
      "\n",
      "- ``list`` : a mutable ordered array of data\n",
      "- ``tuple`` : an immutable ordered array of data\n",
      "- ``dict`` : an unordered mapping from keys to values\n",
      "- ``set`` : an unordered collection of unique elements\n",
      "\n",
      "The values in any of these collections can be arbitrary\n",
      "Python objects, and mixing content types is OK.\n",
      "\n",
      "Note that strings are also sequence objects."
     ]
    },
    {
     "cell_type": "markdown",
     "metadata": {},
     "source": [
      "## Tuples\n",
      "\n",
      "Tuples are denoted with parentheses"
     ]
    },
    {
     "cell_type": "code",
     "collapsed": false,
     "input": [
      "t = (12, -1,2)\n",
      "print type(t)"
     ],
     "language": "python",
     "metadata": {},
     "outputs": [
      {
       "output_type": "stream",
       "stream": "stdout",
       "text": [
        "<type 'tuple'>\n"
       ]
      }
     ],
     "prompt_number": 2
    },
    {
     "cell_type": "code",
     "collapsed": false,
     "input": [
      "print isinstance(t,tuple)\n",
      "print len(t)"
     ],
     "language": "python",
     "metadata": {},
     "outputs": [
      {
       "output_type": "stream",
       "stream": "stdout",
       "text": [
        "True\n",
        "2"
       ]
      }
     ],
     "prompt_number": 2
    },
    {
     "cell_type": "markdown",
     "metadata": {},
     "source": [
      "Can mix types in a tuple"
     ]
    },
    {
     "cell_type": "code",
     "collapsed": false,
     "input": [
      "t = (12, \"monty\", True, -1.23e6)\n",
      "print t[1]"
     ],
     "language": "python",
     "metadata": {},
     "outputs": [
      {
       "output_type": "stream",
       "stream": "stdout",
       "text": [
        "monty\n"
       ]
      }
     ],
     "prompt_number": 10
    },
    {
     "cell_type": "markdown",
     "metadata": {},
     "source": [
      "Indexing works the same way as for strings:"
     ]
    },
    {
     "cell_type": "code",
     "collapsed": false,
     "input": [
      "print t[-1]"
     ],
     "language": "python",
     "metadata": {},
     "outputs": [
      {
       "output_type": "stream",
       "stream": "stdout",
       "text": [
        "-1230000.0"
       ]
      }
     ],
     "prompt_number": 4
    },
    {
     "cell_type": "code",
     "collapsed": false,
     "input": [
      "t[-2:]  # get the last two elements, return as a tuple"
     ],
     "language": "python",
     "metadata": {},
     "outputs": [
      {
       "output_type": "pyout",
       "prompt_number": 5,
       "text": [
        "(True, -1230000.0)"
       ]
      }
     ],
     "prompt_number": 5
    },
    {
     "cell_type": "code",
     "collapsed": false,
     "input": [
      "x = (True) ; print type(x)\n",
      "x = (True,) ; print type(x)"
     ],
     "language": "python",
     "metadata": {},
     "outputs": [
      {
       "output_type": "stream",
       "stream": "stdout",
       "text": [
        "<type 'bool'>\n",
        "<type 'tuple'>"
       ]
      }
     ],
     "prompt_number": 6
    },
    {
     "cell_type": "code",
     "collapsed": false,
     "input": [
      "x = ()\n",
      "type(x), len(x)"
     ],
     "language": "python",
     "metadata": {},
     "outputs": [
      {
       "metadata": {},
       "output_type": "pyout",
       "prompt_number": 8,
       "text": [
        "(tuple, 0)"
       ]
      }
     ],
     "prompt_number": 8
    },
    {
     "cell_type": "code",
     "collapsed": false,
     "input": [
      "x = (,)"
     ],
     "language": "python",
     "metadata": {},
     "outputs": [
      {
       "ename": "SyntaxError",
       "evalue": "invalid syntax (<ipython-input-9-bd05d59e2976>, line 1)",
       "output_type": "pyerr",
       "traceback": [
        "\u001b[0;36m  File \u001b[0;32m\"<ipython-input-9-bd05d59e2976>\"\u001b[0;36m, line \u001b[0;32m1\u001b[0m\n\u001b[0;31m    x = (,)\u001b[0m\n\u001b[0m         ^\u001b[0m\n\u001b[0;31mSyntaxError\u001b[0m\u001b[0;31m:\u001b[0m invalid syntax\n"
       ]
      }
     ],
     "prompt_number": 9
    },
    {
     "cell_type": "markdown",
     "metadata": {},
     "source": [
      "single-element tuples look like `(element,)`"
     ]
    },
    {
     "cell_type": "markdown",
     "metadata": {},
     "source": [
      "tuples cannot be modified.\n",
      "but you can create new one with concatenation"
     ]
    },
    {
     "cell_type": "code",
     "collapsed": false,
     "input": [
      "t[2] = False"
     ],
     "language": "python",
     "metadata": {},
     "outputs": [
      {
       "ename": "TypeError",
       "evalue": "'tuple' object does not support item assignment",
       "output_type": "pyerr",
       "traceback": [
        "\u001b[0;31m---------------------------------------------------------------------------\u001b[0m\n\u001b[0;31mTypeError\u001b[0m                                 Traceback (most recent call last)",
        "\u001b[0;32m/Users/jbloom/Classes/python-bootcamp/DataFiles_and_Notebooks/02_AdvancedDataStructures/<ipython-input-9-9365ccccf007>\u001b[0m in \u001b[0;36m<module>\u001b[0;34m()\u001b[0m\n\u001b[0;32m----> 1\u001b[0;31m \u001b[0mt\u001b[0m\u001b[0;34m[\u001b[0m\u001b[0;36m2\u001b[0m\u001b[0;34m]\u001b[0m \u001b[0;34m=\u001b[0m \u001b[0mFalse\u001b[0m\u001b[0;34m\u001b[0m\u001b[0m\n\u001b[0m",
        "\u001b[0;31mTypeError\u001b[0m: 'tuple' object does not support item assignment"
       ]
      }
     ],
     "prompt_number": 9
    },
    {
     "cell_type": "code",
     "collapsed": false,
     "input": [
      "t[0:2], False, t[3:]"
     ],
     "language": "python",
     "metadata": {},
     "outputs": [
      {
       "metadata": {},
       "output_type": "pyout",
       "prompt_number": 5,
       "text": [
        "((), False, ())"
       ]
      }
     ],
     "prompt_number": 5
    },
    {
     "cell_type": "code",
     "collapsed": false,
     "input": [
      "## the above it \n",
      "## not what we wanted... need to concatenate\n",
      "t[0:2] + False + t[3:]"
     ],
     "language": "python",
     "metadata": {},
     "outputs": [
      {
       "ename": "TypeError",
       "evalue": "can only concatenate tuple (not \"bool\") to tuple",
       "output_type": "pyerr",
       "traceback": [
        "\u001b[0;31m---------------------------------------------------------------------------\u001b[0m\n\u001b[0;31mTypeError\u001b[0m                                 Traceback (most recent call last)",
        "\u001b[0;32m<ipython-input-6-73d4c94ec2bf>\u001b[0m in \u001b[0;36m<module>\u001b[0;34m()\u001b[0m\n\u001b[1;32m      1\u001b[0m \u001b[0;31m## the above it\u001b[0m\u001b[0;34m\u001b[0m\u001b[0;34m\u001b[0m\u001b[0m\n\u001b[1;32m      2\u001b[0m \u001b[0;31m## not what we wanted... need to concatenate\u001b[0m\u001b[0;34m\u001b[0m\u001b[0;34m\u001b[0m\u001b[0m\n\u001b[0;32m----> 3\u001b[0;31m \u001b[0mt\u001b[0m\u001b[0;34m[\u001b[0m\u001b[0;36m0\u001b[0m\u001b[0;34m:\u001b[0m\u001b[0;36m2\u001b[0m\u001b[0;34m]\u001b[0m \u001b[0;34m+\u001b[0m \u001b[0mFalse\u001b[0m \u001b[0;34m+\u001b[0m \u001b[0mt\u001b[0m\u001b[0;34m[\u001b[0m\u001b[0;36m3\u001b[0m\u001b[0;34m:\u001b[0m\u001b[0;34m]\u001b[0m\u001b[0;34m\u001b[0m\u001b[0m\n\u001b[0m",
        "\u001b[0;31mTypeError\u001b[0m: can only concatenate tuple (not \"bool\") to tuple"
       ]
      }
     ],
     "prompt_number": 6
    },
    {
     "cell_type": "code",
     "collapsed": false,
     "input": [
      "y = t[0:2] + (False,) + t[3:]\n",
      "print y"
     ],
     "language": "python",
     "metadata": {},
     "outputs": [
      {
       "output_type": "stream",
       "stream": "stdout",
       "text": [
        "(12, -1, False)\n"
       ]
      }
     ],
     "prompt_number": 3
    },
    {
     "cell_type": "code",
     "collapsed": false,
     "input": [
      "t * 2"
     ],
     "language": "python",
     "metadata": {},
     "outputs": [
      {
       "output_type": "pyout",
       "prompt_number": 13,
       "text": [
        "(12, 'monty', True, -1230000.0, 12, 'monty', True, -1230000.0)"
       ]
      }
     ],
     "prompt_number": 13
    },
    {
     "cell_type": "markdown",
     "metadata": {},
     "source": [
      "Tuples are most commonly used in functions which return multiple arguments."
     ]
    },
    {
     "cell_type": "markdown",
     "metadata": {},
     "source": [
      "## Lists\n",
      "Lists are denoted with square brackets"
     ]
    },
    {
     "cell_type": "code",
     "collapsed": false,
     "input": [
      "v = [1,2,3] #like idl arrays?\n",
      "print len(v)\n",
      "print type(v)"
     ],
     "language": "python",
     "metadata": {},
     "outputs": [
      {
       "output_type": "stream",
       "stream": "stdout",
       "text": [
        "3\n",
        "<type 'list'>\n"
       ]
      }
     ],
     "prompt_number": 34
    },
    {
     "cell_type": "code",
     "collapsed": false,
     "input": [
      "v[0:2]"
     ],
     "language": "python",
     "metadata": {},
     "outputs": [
      {
       "metadata": {},
       "output_type": "pyout",
       "prompt_number": 12,
       "text": [
        "[1, 2]"
       ]
      }
     ],
     "prompt_number": 12
    },
    {
     "cell_type": "code",
     "collapsed": false,
     "input": [
      "v = [\"eggs\", \"spam\", -1, (\"monty\",\"python\"), [-1.2,-3.5]]\n",
      "len(v)\n",
      "print type(v[3])\n"
     ],
     "language": "python",
     "metadata": {},
     "outputs": [
      {
       "output_type": "stream",
       "stream": "stdout",
       "text": [
        "<type 'tuple'>\n"
       ]
      }
     ],
     "prompt_number": 8
    },
    {
     "cell_type": "code",
     "collapsed": false,
     "input": [
      "v[0] =\"green egg\"\n",
      "v[1] += \",love it.\"\n",
      "v[-1]"
     ],
     "language": "python",
     "metadata": {},
     "outputs": [
      {
       "metadata": {},
       "output_type": "pyout",
       "prompt_number": 11,
       "text": [
        "[-1.2, -3.5]"
       ]
      }
     ],
     "prompt_number": 11
    },
    {
     "cell_type": "code",
     "collapsed": false,
     "input": [
      "v[-1][1] = None\n",
      "print v"
     ],
     "language": "python",
     "metadata": {},
     "outputs": [
      {
       "output_type": "stream",
       "stream": "stdout",
       "text": [
        "['green egg', 'spam,love it.,love it.,love it.', -1, ('monty', 'python'), [-1.2, None]]\n"
       ]
      }
     ],
     "prompt_number": 13
    },
    {
     "cell_type": "code",
     "collapsed": false,
     "input": [
      "v = v[2:]\n",
      "print v"
     ],
     "language": "python",
     "metadata": {},
     "outputs": [
      {
       "output_type": "stream",
       "stream": "stdout",
       "text": [
        "[-1, ('monty', 'python'), [-1.2, None]]\n"
       ]
      }
     ],
     "prompt_number": 14
    },
    {
     "cell_type": "code",
     "collapsed": true,
     "input": [
      "# let's make a proto-array out of nested lists\n",
      "vv = [ [1,2], [3,4] ]"
     ],
     "language": "python",
     "metadata": {},
     "outputs": [],
     "prompt_number": 16
    },
    {
     "cell_type": "code",
     "collapsed": false,
     "input": [
      "print len(vv)"
     ],
     "language": "python",
     "metadata": {},
     "outputs": [
      {
       "output_type": "stream",
       "stream": "stdout",
       "text": [
        "2\n"
       ]
      }
     ],
     "prompt_number": 17
    },
    {
     "cell_type": "code",
     "collapsed": false,
     "input": [
      "determinant = vv[0][0] * vv[1][1] - vv[0][1] * vv[1][0]\n",
      "print determinant"
     ],
     "language": "python",
     "metadata": {},
     "outputs": [
      {
       "output_type": "stream",
       "stream": "stdout",
       "text": [
        "-2\n"
       ]
      }
     ],
     "prompt_number": 18
    },
    {
     "cell_type": "markdown",
     "metadata": {},
     "source": [
      "the main point here: lists are **changeable**"
     ]
    },
    {
     "cell_type": "markdown",
     "metadata": {},
     "source": [
      "### Lists can be Extended and Appended"
     ]
    },
    {
     "cell_type": "code",
     "collapsed": false,
     "input": [
      "v = [1,2,3]\n",
      "v.append(4)  #append is a function associated with an object\n",
      "v.append([-5])\n",
      "print v"
     ],
     "language": "python",
     "metadata": {},
     "outputs": [
      {
       "output_type": "stream",
       "stream": "stdout",
       "text": [
        "[1, 2, 3, 4, [-5]]\n"
       ]
      }
     ],
     "prompt_number": 24
    },
    {
     "cell_type": "markdown",
     "metadata": {},
     "source": [
      "Note: lists can be considered objects.  **Objects** are collections of data and associated\n",
      "**methods**.  In the case of a list, ``append`` is a method: it is a function\n",
      "associated with the object."
     ]
    },
    {
     "cell_type": "code",
     "collapsed": false,
     "input": [
      "v = v[:4]\n",
      "w = ['elderberries', 'eggs']\n",
      "print v + w"
     ],
     "language": "python",
     "metadata": {},
     "outputs": [
      {
       "output_type": "stream",
       "stream": "stdout",
       "text": [
        "[-1, 'elderberries', 'eggs']\n"
       ]
      }
     ],
     "prompt_number": 23
    },
    {
     "cell_type": "code",
     "collapsed": false,
     "input": [
      "print v"
     ],
     "language": "python",
     "metadata": {},
     "outputs": [
      {
       "output_type": "stream",
       "stream": "stdout",
       "text": [
        "[-1]\n"
       ]
      }
     ],
     "prompt_number": 24
    },
    {
     "cell_type": "code",
     "collapsed": false,
     "input": [
      "v.extend(w)\n",
      "print v"
     ],
     "language": "python",
     "metadata": {},
     "outputs": [
      {
       "output_type": "stream",
       "stream": "stdout",
       "text": [
        "[-1, 'elderberries', 'eggs']\n"
       ]
      }
     ],
     "prompt_number": 25
    },
    {
     "cell_type": "code",
     "collapsed": false,
     "input": [
      "v.pop()"
     ],
     "language": "python",
     "metadata": {},
     "outputs": [
      {
       "metadata": {},
       "output_type": "pyout",
       "prompt_number": 27,
       "text": [
        "'elderberries'"
       ]
      }
     ],
     "prompt_number": 27
    },
    {
     "cell_type": "code",
     "collapsed": false,
     "input": [
      "print v"
     ],
     "language": "python",
     "metadata": {},
     "outputs": [
      {
       "output_type": "stream",
       "stream": "stdout",
       "text": [
        "[-1]\n"
       ]
      }
     ],
     "prompt_number": 29
    },
    {
     "cell_type": "code",
     "collapsed": false,
     "input": [
      "v.pop(0) ## pop the first element"
     ],
     "language": "python",
     "metadata": {},
     "outputs": [
      {
       "metadata": {},
       "output_type": "pyout",
       "prompt_number": 30,
       "text": [
        "-1"
       ]
      }
     ],
     "prompt_number": 30
    },
    {
     "cell_type": "code",
     "collapsed": false,
     "input": [
      "print v"
     ],
     "language": "python",
     "metadata": {},
     "outputs": [
      {
       "output_type": "stream",
       "stream": "stdout",
       "text": [
        "[]\n"
       ]
      }
     ],
     "prompt_number": 31
    },
    {
     "cell_type": "markdown",
     "metadata": {},
     "source": [
      "#### Useful list methods:\n",
      "\n",
      "* `.append()`: adds a new element\n",
      " * `.extend()`: concatenates a list/element\n",
      " * `.pop()`: remove an element"
     ]
    },
    {
     "cell_type": "markdown",
     "metadata": {},
     "source": [
      "### Lists can be searched, sorted, & counted"
     ]
    },
    {
     "cell_type": "code",
     "collapsed": false,
     "input": [
      "v = [1, 3, 2, 3, 4]\n",
      "v.sort() ; print v"
     ],
     "language": "python",
     "metadata": {},
     "outputs": [
      {
       "output_type": "stream",
       "stream": "stdout",
       "text": [
        "[1, 2, 3, 3, 4]\n"
       ]
      }
     ],
     "prompt_number": 33
    },
    {
     "cell_type": "code",
     "collapsed": false,
     "input": [
      "A = [1,2,3]\n",
      "A.append(4)\n",
      "print A\n",
      "\n",
      "E = [1,2,3]\n",
      "A += E\n",
      "#same as A.extend(E)\n",
      "print A "
     ],
     "language": "python",
     "metadata": {},
     "outputs": [
      {
       "output_type": "stream",
       "stream": "stdout",
       "text": [
        "[1, 2, 3, 4]\n",
        "[1, 2, 3, 4, 1, 2, 3]\n"
       ]
      }
     ],
     "prompt_number": 36
    },
    {
     "cell_type": "markdown",
     "metadata": {},
     "source": [
      "`reverse` is a *keyword* of the `.sort()` method"
     ]
    },
    {
     "cell_type": "code",
     "collapsed": false,
     "input": [
      "v.sort(reverse=True) ; print v"
     ],
     "language": "python",
     "metadata": {},
     "outputs": [
      {
       "output_type": "stream",
       "stream": "stdout",
       "text": [
        "[4, 3, 3, 2, 1]\n"
       ]
      }
     ],
     "prompt_number": 37
    },
    {
     "cell_type": "markdown",
     "metadata": {},
     "source": [
      "`.sort()` changes the the list in place "
     ]
    },
    {
     "cell_type": "code",
     "collapsed": false,
     "input": [
      "v.index(4)   ## lookup the index of the entry 4"
     ],
     "language": "python",
     "metadata": {},
     "outputs": [
      {
       "output_type": "pyout",
       "prompt_number": 31,
       "text": [
        "1"
       ]
      }
     ],
     "prompt_number": 31
    },
    {
     "cell_type": "code",
     "collapsed": false,
     "input": [
      "v.index(3)"
     ],
     "language": "python",
     "metadata": {},
     "outputs": [
      {
       "metadata": {},
       "output_type": "pyout",
       "prompt_number": 38,
       "text": [
        "1"
       ]
      }
     ],
     "prompt_number": 38
    },
    {
     "cell_type": "code",
     "collapsed": false,
     "input": [
      "v.count(3)"
     ],
     "language": "python",
     "metadata": {},
     "outputs": [
      {
       "metadata": {},
       "output_type": "pyout",
       "prompt_number": 39,
       "text": [
        "2"
       ]
      }
     ],
     "prompt_number": 39
    },
    {
     "cell_type": "code",
     "collapsed": false,
     "input": [
      "v.insert(0, \"it's full of stars\") ; print v"
     ],
     "language": "python",
     "metadata": {},
     "outputs": [
      {
       "output_type": "stream",
       "stream": "stdout",
       "text": [
        "[\"it's full of stars\", \"it's full of stars\", 4, 3, 3, 2]\n"
       ]
      }
     ],
     "prompt_number": 44
    },
    {
     "cell_type": "code",
     "collapsed": false,
     "input": [
      "v.remove(3) ; print v"
     ],
     "language": "python",
     "metadata": {},
     "outputs": [
      {
       "output_type": "stream",
       "stream": "stdout",
       "text": [
        "[\"it's full of stars\", \"it's full of stars\", 4, 3, 2]\n"
       ]
      }
     ],
     "prompt_number": 46
    },
    {
     "cell_type": "code",
     "collapsed": false,
     "input": [
      "v.append?"
     ],
     "language": "python",
     "metadata": {},
     "outputs": [],
     "prompt_number": 49
    },
    {
     "cell_type": "markdown",
     "metadata": {},
     "source": [
      "### Using IPython to learn more\n",
      "\n",
      "IPython is your new best friend: it's tab-completion allows you to\n",
      "explore all methods available to an object.  (This only works in IPython)\n",
      "\n",
      "Type\n",
      "```\n",
      "v.\n",
      "```\n",
      "and then the tab key to see all the available methods:"
     ]
    },
    {
     "cell_type": "code",
     "collapsed": false,
     "input": [
      "v.append"
     ],
     "language": "python",
     "metadata": {},
     "outputs": [
      {
       "metadata": {},
       "output_type": "pyout",
       "prompt_number": 51,
       "text": [
        "<function append>"
       ]
      }
     ],
     "prompt_number": 51
    },
    {
     "cell_type": "markdown",
     "metadata": {},
     "source": [
      "Once you find a method, type (for example)\n",
      "```\n",
      "v.index?\n",
      "```\n",
      "and press shift-enter: you'll see the documentation of the method"
     ]
    },
    {
     "cell_type": "code",
     "collapsed": false,
     "input": [
      "v.index?"
     ],
     "language": "python",
     "metadata": {},
     "outputs": [
      {
       "metadata": {},
       "output_type": "pyout",
       "prompt_number": 35,
       "text": [
        "<function index>"
       ]
      }
     ],
     "prompt_number": 35
    },
    {
     "cell_type": "markdown",
     "metadata": {},
     "source": [
      "**This is probably the most important thing you'll learn today**"
     ]
    },
    {
     "cell_type": "markdown",
     "metadata": {},
     "source": [
      "### Iterating over Lists"
     ]
    },
    {
     "cell_type": "code",
     "collapsed": false,
     "input": [
      "a = ['cat', 'window', 'defenestrate']\n",
      "for x in a: #goes through each element of loop\n",
      "    print x, len(x) "
     ],
     "language": "python",
     "metadata": {},
     "outputs": [
      {
       "output_type": "stream",
       "stream": "stdout",
       "text": [
        "cat 3\n",
        "window 6\n",
        "defenestrate 12\n"
       ]
      }
     ],
     "prompt_number": 52
    },
    {
     "cell_type": "code",
     "collapsed": false,
     "input": [
      "for i,x in enumerate(a):\n",
      "    print i, x, len(x) #you don't have to use i as indices\n",
      "    \n",
      "for ii,x in enumerate(a):\n",
      "    print ii, x, len(x)"
     ],
     "language": "python",
     "metadata": {},
     "outputs": [
      {
       "output_type": "stream",
       "stream": "stdout",
       "text": [
        "0 cat 3\n",
        "1 window 6\n",
        "2 defenestrate 12\n",
        "0 cat 3\n",
        "1 window 6\n",
        "2 defenestrate 12\n"
       ]
      }
     ],
     "prompt_number": 55
    },
    {
     "cell_type": "code",
     "collapsed": false,
     "input": [
      "for x in a:\n",
      "    print x, #the , puts them all on one line"
     ],
     "language": "python",
     "metadata": {},
     "outputs": [
      {
       "output_type": "stream",
       "stream": "stdout",
       "text": [
        "cat window defenestrate\n"
       ]
      }
     ],
     "prompt_number": 58
    },
    {
     "cell_type": "markdown",
     "metadata": {},
     "source": [
      "The syntax for iteration is...  \n",
      "\n",
      "    for variable_name in iterable:\n",
      "       # do something with variable_name"
     ]
    },
    {
     "cell_type": "markdown",
     "metadata": {},
     "source": [
      "### The ``range()`` function"
     ]
    },
    {
     "cell_type": "markdown",
     "metadata": {},
     "source": [
      "The `range()` function creates a list of integers"
     ]
    },
    {
     "cell_type": "code",
     "collapsed": false,
     "input": [
      "x = range(4)\n",
      "print x\n",
      "\n",
      "xx = range(4,9,2)\n",
      "print xx"
     ],
     "language": "python",
     "metadata": {},
     "outputs": [
      {
       "output_type": "stream",
       "stream": "stdout",
       "text": [
        "[0, 1, 2, 3]\n",
        "[4, 6, 8]\n"
       ]
      }
     ],
     "prompt_number": 61
    },
    {
     "cell_type": "code",
     "collapsed": false,
     "input": [
      "total = 0\n",
      "for val in range(4):\n",
      "    total += val\n",
      "    print \"By adding \" + str(val) + \\\n",
      "          \" the total is now \" + str(total)"
     ],
     "language": "python",
     "metadata": {},
     "outputs": [
      {
       "output_type": "stream",
       "stream": "stdout",
       "text": [
        "By adding 0 the total is now 0\n",
        "By adding 1 the total is now 1\n",
        "By adding 2 the total is now 3\n",
        "By adding 3 the total is now 6\n"
       ]
      }
     ],
     "prompt_number": 64
    },
    {
     "cell_type": "code",
     "collapsed": false,
     "input": [],
     "language": "python",
     "metadata": {},
     "outputs": []
    },
    {
     "cell_type": "markdown",
     "metadata": {},
     "source": [
      "\n",
      "`range`([`start`,] `stop`[, `step`])\n",
      "\u2192 list of integers"
     ]
    },
    {
     "cell_type": "code",
     "collapsed": false,
     "input": [
      "total = 0\n",
      "for val in range(1, 10, 2):\n",
      "    total += val\n",
      "    print \"By adding \" + str(val) + \\\n",
      "          \" the total is now \" + str(total)"
     ],
     "language": "python",
     "metadata": {},
     "outputs": [
      {
       "output_type": "stream",
       "stream": "stdout",
       "text": [
        "By adding 1 the total is now 1\n",
        "By adding 3 the total is now 4\n",
        "By adding 5 the total is now 9\n",
        "By adding 7 the total is now 16\n",
        "By adding 9 the total is now 25\n"
       ]
      }
     ],
     "prompt_number": 39
    },
    {
     "cell_type": "code",
     "collapsed": false,
     "input": [
      "a = ['Mary', 'had', 'a', 'little', 'lamb']\n",
      "for i in range(len(a)):\n",
      "    print i, a[i]"
     ],
     "language": "python",
     "metadata": {},
     "outputs": [
      {
       "output_type": "stream",
       "stream": "stdout",
       "text": [
        " 0 Mary\n",
        "1 had\n",
        "2 a\n",
        "3 little\n",
        "4 lamb\n"
       ]
      }
     ],
     "prompt_number": 66
    },
    {
     "cell_type": "markdown",
     "metadata": {},
     "source": [
      "**Quick Exercise:**\n",
      "\n",
      "Write a loop over the words in this list and print the words longer than three characters in length:"
     ]
    },
    {
     "cell_type": "code",
     "collapsed": false,
     "input": [
      "L = [\"Oh\", \"Say\", \"does\", \"that\", \"star\", \"spangled\", \"banner\", \"yet\", \"wave\"]\n",
      "for i in range(len(L)):\n",
      "    if len(L[i]) > 3:\n",
      "        print L[i]\n",
      "        "
     ],
     "language": "python",
     "metadata": {},
     "outputs": [
      {
       "output_type": "stream",
       "stream": "stdout",
       "text": [
        "does\n",
        "that\n",
        "star\n",
        "spangled\n",
        "banner\n",
        "wave\n"
       ]
      }
     ],
     "prompt_number": 75
    },
    {
     "cell_type": "code",
     "collapsed": false,
     "input": [],
     "language": "python",
     "metadata": {},
     "outputs": []
    },
    {
     "cell_type": "markdown",
     "metadata": {},
     "source": [
      "## Sets\n",
      "Sets are denoted with a curly braces"
     ]
    },
    {
     "cell_type": "code",
     "collapsed": false,
     "input": [
      "{1,2,3,\"bingo\"} #note: sets are unordered"
     ],
     "language": "python",
     "metadata": {},
     "outputs": [
      {
       "output_type": "pyout",
       "prompt_number": 45,
       "text": [
        "set(['bingo', 1, 2, 3])"
       ]
      }
     ],
     "prompt_number": 45
    },
    {
     "cell_type": "code",
     "collapsed": false,
     "input": [
      "print type({1,2,3,\"bingo\"})"
     ],
     "language": "python",
     "metadata": {},
     "outputs": [
      {
       "output_type": "stream",
       "stream": "stdout",
       "text": [
        "<type 'set'>"
       ]
      }
     ],
     "prompt_number": 47
    },
    {
     "cell_type": "code",
     "collapsed": false,
     "input": [
      "print  type({})"
     ],
     "language": "python",
     "metadata": {},
     "outputs": [
      {
       "output_type": "stream",
       "stream": "stdout",
       "text": [
        "<type 'dict'>"
       ]
      }
     ],
     "prompt_number": 48
    },
    {
     "cell_type": "code",
     "collapsed": false,
     "input": [
      "print type(set())"
     ],
     "language": "python",
     "metadata": {},
     "outputs": [
      {
       "output_type": "stream",
       "stream": "stdout",
       "text": [
        "<type 'set'>"
       ]
      }
     ],
     "prompt_number": 50
    },
    {
     "cell_type": "code",
     "collapsed": false,
     "input": [
      "set(\"spamIam\")"
     ],
     "language": "python",
     "metadata": {},
     "outputs": [
      {
       "output_type": "pyout",
       "prompt_number": 51,
       "text": [
        "set(['a', 'p', 's', 'm', 'I'])"
       ]
      }
     ],
     "prompt_number": 51
    },
    {
     "cell_type": "markdown",
     "metadata": {},
     "source": [
      "sets have unique elements. They can be\n",
      "compared, differenced, unionized, etc."
     ]
    },
    {
     "cell_type": "code",
     "collapsed": false,
     "input": [
      "a = set(\"sp\"); b = set(\"am\"); print a ; print b \n",
      "#the set is just the characters "
     ],
     "language": "python",
     "metadata": {},
     "outputs": [
      {
       "output_type": "stream",
       "stream": "stdout",
       "text": [
        "set(['p', 's'])\n",
        "set(['a', 'm'])\n"
       ]
      }
     ],
     "prompt_number": 76
    },
    {
     "cell_type": "code",
     "collapsed": false,
     "input": [
      "c = set([\"a\",\"m\"])\n",
      "c == b"
     ],
     "language": "python",
     "metadata": {},
     "outputs": [
      {
       "metadata": {},
       "output_type": "pyout",
       "prompt_number": 83,
       "text": [
        "True"
       ]
      }
     ],
     "prompt_number": 83
    },
    {
     "cell_type": "code",
     "collapsed": false,
     "input": [
      "\"p\" in a"
     ],
     "language": "python",
     "metadata": {},
     "outputs": [
      {
       "metadata": {},
       "output_type": "pyout",
       "prompt_number": 84,
       "text": [
        "True"
       ]
      }
     ],
     "prompt_number": 84
    },
    {
     "cell_type": "code",
     "collapsed": false,
     "input": [
      "\"ps\" in a #ps as a single string is not in the set"
     ],
     "language": "python",
     "metadata": {},
     "outputs": [
      {
       "metadata": {},
       "output_type": "pyout",
       "prompt_number": 85,
       "text": [
        "False"
       ]
      }
     ],
     "prompt_number": 85
    },
    {
     "cell_type": "code",
     "collapsed": false,
     "input": [
      "q = set(\"spamIam\")\n",
      "a.issubset(q) #are all the elements in a also in q?"
     ],
     "language": "python",
     "metadata": {},
     "outputs": [
      {
       "metadata": {},
       "output_type": "pyout",
       "prompt_number": 86,
       "text": [
        "True"
       ]
      }
     ],
     "prompt_number": 86
    },
    {
     "cell_type": "code",
     "collapsed": false,
     "input": [
      "a | b #union operator for sets"
     ],
     "language": "python",
     "metadata": {},
     "outputs": [
      {
       "metadata": {},
       "output_type": "pyout",
       "prompt_number": 87,
       "text": [
        "{'a', 'm', 'p', 's'}"
       ]
      }
     ],
     "prompt_number": 87
    },
    {
     "cell_type": "code",
     "collapsed": false,
     "input": [
      "q - (a | b) #what's in q minus everything in a and b"
     ],
     "language": "python",
     "metadata": {},
     "outputs": [
      {
       "metadata": {},
       "output_type": "pyout",
       "prompt_number": 88,
       "text": [
        "{'I'}"
       ]
      }
     ],
     "prompt_number": 88
    },
    {
     "cell_type": "code",
     "collapsed": false,
     "input": [
      "q & (a | b) #which element is in both of these sets?"
     ],
     "language": "python",
     "metadata": {},
     "outputs": [
      {
       "metadata": {},
       "output_type": "pyout",
       "prompt_number": 89,
       "text": [
        "{'a', 'm', 'p', 's'}"
       ]
      }
     ],
     "prompt_number": 89
    },
    {
     "cell_type": "markdown",
     "metadata": {},
     "source": [
      "Like lists, we can use as (unordered) buckets\n",
      "`.pop()` gives us a random element"
     ]
    },
    {
     "cell_type": "code",
     "collapsed": false,
     "input": [
      "# this is pretty volitile...wont be the same\n",
      "# order on all machines\n",
      "for i in q & (a | b):\n",
      "    print i, "
     ],
     "language": "python",
     "metadata": {},
     "outputs": [
      {
       "output_type": "stream",
       "stream": "stdout",
       "text": [
        "a p s m\n"
       ]
      }
     ],
     "prompt_number": 90
    },
    {
     "cell_type": "code",
     "collapsed": true,
     "input": [
      "q.remove(\"a\")"
     ],
     "language": "python",
     "metadata": {},
     "outputs": [],
     "prompt_number": 91
    },
    {
     "cell_type": "code",
     "collapsed": false,
     "input": [
      "L = [1,2,3,1,2,3,'spam']\n",
      "list(set(L))"
     ],
     "language": "python",
     "metadata": {},
     "outputs": [
      {
       "metadata": {},
       "output_type": "pyout",
       "prompt_number": 94,
       "text": [
        "[1, 2, 3, 'spam']"
       ]
      }
     ],
     "prompt_number": 94
    },
    {
     "cell_type": "code",
     "collapsed": false,
     "input": [
      "set('spam')\n",
      "for element in \"spam\":\n",
      "    print element\n",
      "    \n",
      "q = set(\"spamIam\")\n",
      "print q\n",
      "q.remove('a')\n",
      "print q\n",
      "print q.pop()\n",
      "print q\n",
      "print q.pop()\n",
      "print q"
     ],
     "language": "python",
     "metadata": {},
     "outputs": [
      {
       "output_type": "stream",
       "stream": "stdout",
       "text": [
        "s\n",
        "p\n",
        "a\n",
        "m\n",
        "set(['a', 'p', 's', 'm', 'I'])\n",
        "set(['p', 's', 'm', 'I'])\n",
        "p\n",
        "set(['s', 'm', 'I'])\n",
        "s\n",
        "set(['m', 'I'])\n"
       ]
      }
     ],
     "prompt_number": 109
    },
    {
     "cell_type": "code",
     "collapsed": false,
     "input": [
      "q.pop()"
     ],
     "language": "python",
     "metadata": {},
     "outputs": [
      {
       "output_type": "pyout",
       "prompt_number": 64,
       "text": [
        "'p'"
       ]
      }
     ],
     "prompt_number": 64
    },
    {
     "cell_type": "code",
     "collapsed": false,
     "input": [
      "print q.pop()\n",
      "print q.pop()"
     ],
     "language": "python",
     "metadata": {},
     "outputs": [
      {
       "output_type": "stream",
       "stream": "stdout",
       "text": [
        "s\n",
        "m"
       ]
      }
     ],
     "prompt_number": 65
    },
    {
     "cell_type": "code",
     "collapsed": false,
     "input": [
      "print q.pop()"
     ],
     "language": "python",
     "metadata": {},
     "outputs": [
      {
       "output_type": "stream",
       "stream": "stdout",
       "text": [
        "I"
       ]
      }
     ],
     "prompt_number": 66
    },
    {
     "cell_type": "code",
     "collapsed": false,
     "input": [
      "q.pop()"
     ],
     "language": "python",
     "metadata": {},
     "outputs": [
      {
       "ename": "KeyError",
       "evalue": "'pop from an empty set'",
       "output_type": "pyerr",
       "traceback": [
        "\u001b[0;31m---------------------------------------------------------------------------\u001b[0m\n\u001b[0;31mKeyError\u001b[0m                                  Traceback (most recent call last)",
        "\u001b[0;32m/Users/jbloom/Classes/python-bootcamp/DataFiles_and_Notebooks/02_AdvancedDataStructures/<ipython-input-68-16da542f89c5>\u001b[0m in \u001b[0;36m<module>\u001b[0;34m()\u001b[0m\n\u001b[0;32m----> 1\u001b[0;31m \u001b[0mq\u001b[0m\u001b[0;34m.\u001b[0m\u001b[0mpop\u001b[0m\u001b[0;34m(\u001b[0m\u001b[0;34m)\u001b[0m\u001b[0;34m\u001b[0m\u001b[0m\n\u001b[0m",
        "\u001b[0;31mKeyError\u001b[0m: 'pop from an empty set'"
       ]
      }
     ],
     "prompt_number": 68
    },
    {
     "cell_type": "markdown",
     "metadata": {},
     "source": [
      "## Dictionaries\n",
      "We'll show four ways to make a Dictionary"
     ]
    },
    {
     "cell_type": "code",
     "collapsed": true,
     "input": [
      "# number 1... curly braces & colons\n",
      "d = {\"favorite cat\": None,\n",
      "     \"favorite spam\": \"all\"}\n",
      "print d"
     ],
     "language": "python",
     "metadata": {},
     "outputs": [
      {
       "output_type": "stream",
       "stream": "stdout",
       "text": [
        "{'favorite spam': 'all', 'favorite cat': None}\n"
       ]
      }
     ],
     "prompt_number": 110
    },
    {
     "cell_type": "code",
     "collapsed": false,
     "input": [
      "# number 2\n",
      "d = dict(one = 1, two=2, cat='dog')\n",
      "print d"
     ],
     "language": "python",
     "metadata": {},
     "outputs": [
      {
       "output_type": "stream",
       "stream": "stdout",
       "text": [
        "{'cat': 'dog', 'two': 2, 'one': 1}\n"
       ]
      }
     ],
     "prompt_number": 111
    },
    {
     "cell_type": "code",
     "collapsed": false,
     "input": [
      "# number 3 ... just start filling in items/keys\n",
      "d = {}  # empty dictionary\n",
      "d['cat'] = 'dog'\n",
      "d['one'] = 1\n",
      "d['two'] = 2\n",
      "print d"
     ],
     "language": "python",
     "metadata": {},
     "outputs": [
      {
       "output_type": "stream",
       "stream": "stdout",
       "text": [
        "{'one': 1, 'two': 2, 'cat': 'dog'}\n"
       ]
      }
     ],
     "prompt_number": 112
    },
    {
     "cell_type": "code",
     "collapsed": false,
     "input": [
      "# number 4... start with a list of tuples\n",
      "mylist = [(\"cat\",\"dog\"), (\"one\",1),(\"two\",2)]\n",
      "print dict(mylist)"
     ],
     "language": "python",
     "metadata": {},
     "outputs": [
      {
       "output_type": "stream",
       "stream": "stdout",
       "text": [
        "{'one': 1, 'two': 2, 'cat': 'dog'}\n"
       ]
      }
     ],
     "prompt_number": 113
    },
    {
     "cell_type": "code",
     "collapsed": false,
     "input": [
      "dict(mylist) == d"
     ],
     "language": "python",
     "metadata": {},
     "outputs": [
      {
       "metadata": {},
       "output_type": "pyout",
       "prompt_number": 114,
       "text": [
        "True"
       ]
      }
     ],
     "prompt_number": 114
    },
    {
     "cell_type": "code",
     "collapsed": false,
     "input": [
      "locals() #any variable you define in python is stored in this\n",
      "    #internal dictionary"
     ],
     "language": "python",
     "metadata": {},
     "outputs": [
      {
       "metadata": {},
       "output_type": "pyout",
       "prompt_number": 115,
       "text": [
        "{'A': [1, 2, 3, 4, 1, 2, 3],\n",
        " 'E': [1, 2, 3],\n",
        " 'In': ['',\n",
        "  u't = (12, -1)\\nprint type(t)',\n",
        "  u't = (12, -1,2)\\nprint type(t)',\n",
        "  u'y = t[0:2] + (False,) + t[3:]\\nprint y',\n",
        "  u'v = [\"eggs\", \"spam\", -1, (\"monty\",\"python\"), [-1.2,-3.5]]\\nlen(v)',\n",
        "  u'v = [\"eggs\", \"spam\", -1, (\"monty\",\"python\"), [-1.2,-3.5]]\\nlen(v)\\nprint, type(v[1])',\n",
        "  u'v = [\"eggs\", \"spam\", -1, (\"monty\",\"python\"), [-1.2,-3.5]]\\nlen(v)\\nprint type(v[1])',\n",
        "  u'v = [\"eggs\", \"spam\", -1, (\"monty\",\"python\"), [-1.2,-3.5]]\\nlen(v)\\nprint type(v[2])',\n",
        "  u'v = [\"eggs\", \"spam\", -1, (\"monty\",\"python\"), [-1.2,-3.5]]\\nlen(v)\\nprint type(v[3])',\n",
        "  u'v[0] =\"green egg\"\\nv[1] += \",love it.\"\\nv[-1]',\n",
        "  u'v[0] =\"green egg\"\\nv[1] += \",love it.\"\\nv[-1]',\n",
        "  u'v[0] =\"green egg\"\\nv[1] += \",love it.\"\\nv[-1]',\n",
        "  u'v[-1][1] = None\\nprint v',\n",
        "  u'v[-1][1] = None\\nprint v',\n",
        "  u'v = v[2:]\\nprint v',\n",
        "  u'determinant = vv[0][0] * vv[1][1] - vv[0][1] * vv[1][0]\\nprint determinant',\n",
        "  u\"# let's make a proto-array out of nested lists\\nvv = [ [1,2], [3,4] ]\",\n",
        "  u'print len(vv)',\n",
        "  u'determinant = vv[0][0] * vv[1][1] - vv[0][1] * vv[1][0]\\nprint determinant',\n",
        "  u'v.pop()',\n",
        "  u'v.pop()',\n",
        "  u'v.extend(w)\\nprint v',\n",
        "  u'print v',\n",
        "  u\"v = v[:4]\\nw = ['elderberries', 'eggs']\\nprint v + w\",\n",
        "  u'print v',\n",
        "  u'v.extend(w)\\nprint v',\n",
        "  u'v.pop()',\n",
        "  u'v.pop()',\n",
        "  u'print v',\n",
        "  u'print v',\n",
        "  u'v.pop(0) ## pop the first element',\n",
        "  u'print v',\n",
        "  u'v = [1, 3, 2, 3, 4]\\nv.sort() ; print v',\n",
        "  u'v = [1, 3, 2, 3, 4]\\nv.sort() ; print v',\n",
        "  u'A = [1,2,3]\\nA.append(4)\\nprint, a\\n\\nE = [1,2,3]\\nA += E\\n#same as A.extend(E)\\nprint A ',\n",
        "  u'A = [1,2,3]\\nA.append(4)\\nprint a\\n\\nE = [1,2,3]\\nA += E\\n#same as A.extend(E)\\nprint A ',\n",
        "  u'A = [1,2,3]\\nA.append(4)\\nprint A\\n\\nE = [1,2,3]\\nA += E\\n#same as A.extend(E)\\nprint A ',\n",
        "  u'v.sort(reverse=True) ; print v',\n",
        "  u'v.index(3)',\n",
        "  u'v.count(3)',\n",
        "  u'v.insert(0, \"it\\'s full of stars\") ; print v',\n",
        "  u'v.remove(1) ; print v',\n",
        "  u'v.remove(1) ; print v',\n",
        "  u'v.remove(1) ; print v',\n",
        "  u'v.insert(0, \"it\\'s full of stars\") ; print v',\n",
        "  u'v.remove(1) ; print v',\n",
        "  u'v.remove(3) ; print v',\n",
        "  u'v.?',\n",
        "  u\"get_ipython().magic(u'pinfo v.append')\",\n",
        "  u\"get_ipython().magic(u'pinfo v.append')\",\n",
        "  u'v.',\n",
        "  u'v.append',\n",
        "  u\"a = ['cat', 'window', 'defenestrate']\\nfor x in a:\\n    print x, len(x)\",\n",
        "  u\"for i,x in enumerate(a):\\n    print i, x, len(x) #you don't have to use i as indices\\n    \\nfor range,x in enumerate(a):\\n    print, range, x, len(x)\",\n",
        "  u\"for i,x in enumerate(a):\\n    print i, x, len(x) #you don't have to use i as indices\\n    \\nfor ii,x in enumerate(a):\\n    print, ii, x, len(x)\",\n",
        "  u\"for i,x in enumerate(a):\\n    print i, x, len(x) #you don't have to use i as indices\\n    \\nfor ii,x in enumerate(a):\\n    print ii, x, len(x)\",\n",
        "  u'for x in a:\\n    print x,',\n",
        "  u'for x in a:\\n    print x',\n",
        "  u'for x in a:\\n    print x,',\n",
        "  u'x = range(4)\\nprint x',\n",
        "  u'x = range(4)\\nprint x\\n\\nxx = range(4,8,2)\\nprint xx',\n",
        "  u'x = range(4)\\nprint x\\n\\nxx = range(4,9,2)\\nprint xx',\n",
        "  u'total = 0\\nfor val in range(4):\\n    total += val\\n    print \"By adding \" + str(val) +           \" the total is now \" + str(total)',\n",
        "  u'total = 0\\nfor val in range(4):\\n    total += val\\n    print \"By adding \" + str(val) +           \" the total is now \" + str(total)',\n",
        "  u'total = 0\\nfor val in range(4):\\n    total += val\\n    print \"By adding \" + str(val) +           \" the total is now \" + str(total)',\n",
        "  u\"a = ['Mary', 'had', 'a', 'little', 'lamb']\\nfor i in range(len(a)):\\n    print i, a[i+2]\",\n",
        "  u\"a = ['Mary', 'had', 'a', 'little', 'lamb']\\nfor i in range(len(a)):\\n    print i, a[i]\",\n",
        "  u'L = [\"Oh\", \"Say\", \"does\", \"that\", \"star\", \"spangled\", \"banner\", \"yet\", \"wave\"]',\n",
        "  u'L = [\"Oh\", \"Say\", \"does\", \"that\", \"star\", \"spangled\", \"banner\", \"yet\", \"wave\"]',\n",
        "  u'L = [\"Oh\", \"Say\", \"does\", \"that\", \"star\", \"spangled\", \"banner\", \"yet\", \"wave\"]\\nfor i in range(len(L)):\\n    if len(L[i]) > 3:\\n        print, L[i]',\n",
        "  u'L = [\"Oh\", \"Say\", \"does\", \"that\", \"star\", \"spangled\", \"banner\", \"yet\", \"wave\"]\\nfor i in range(len(L)):\\n    if len(L[i]) > 3:\\n        print L[i]',\n",
        "  u'L = [\"Oh\", \"Say\", \"does\", \"that\", \"star\", \"spangled\", \"banner\", \"yet\", \"wave\"]\\nfor i in range(len(L)):\\n    if len(L[i]) > 3:\\n        print L[i]\\n        \\n#or you can do:\\nfor word in L[i]\\n    if len(word) > 3:\\n        print word',\n",
        "  u'L = [\"Oh\", \"Say\", \"does\", \"that\", \"star\", \"spangled\", \"banner\", \"yet\", \"wave\"]\\nfor i in range(len(L)):\\n    if len(L[i]) > 3:\\n        print L[i]\\n        \\n#or you can do:\\nfor word in L\\n    if len(word) > 3:\\n        print word',\n",
        "  u'L = [\"Oh\", \"Say\", \"does\", \"that\", \"star\", \"spangled\", \"banner\", \"yet\", \"wave\"]\\nfor i in range(len(L)):\\n    if len(L[i]) > 3:\\n        print L[i]\\n        \\n#or you can do:\\nfor word in range(len(L)):\\n\\n    if len(word) > 3:\\n        print word',\n",
        "  u'L = [\"Oh\", \"Say\", \"does\", \"that\", \"star\", \"spangled\", \"banner\", \"yet\", \"wave\"]\\nfor i in range(len(L)):\\n    if len(L[i]) > 3:\\n        print L[i]\\n        \\n#or you can do:\\nfor word in range(len(L)):\\n    if len(word) > 3:\\n        print word',\n",
        "  u'L = [\"Oh\", \"Say\", \"does\", \"that\", \"star\", \"spangled\", \"banner\", \"yet\", \"wave\"]\\nfor i in range(len(L)):\\n    if len(L[i]) > 3:\\n        print L[i]\\n        ',\n",
        "  u'a = set(\"sp\"); b = set(\"am\"); print a ; print b',\n",
        "  u'c = set([\"a\",\"m\"])\\nc == b',\n",
        "  u'\"ps\" in a #ps as a single string is not in the set',\n",
        "  u'\"ps\" in a #ps as a single string is not in the set\\n\"sp\" in a',\n",
        "  u'# this is pretty volitile...wont be the same\\n# order on all machines\\nfor i in q & (a | b):\\n    print i, ',\n",
        "  u'# this is pretty volitile...wont be the same\\n# order on all machines\\nfor i in q & (a | b):\\n    print i, ',\n",
        "  u'q & (a | b) #which element is in both of these sets?',\n",
        "  u'c = set([\"a\",\"m\"])\\nc == b',\n",
        "  u'\"p\" in a',\n",
        "  u'\"ps\" in a #ps as a single string is not in the set',\n",
        "  u'q = set(\"spamIam\")\\na.issubset(q) #are all the elements in a also in q?',\n",
        "  u'a | b #union operator for sets',\n",
        "  u\"q - (a | b) #what's in q minus everything in a and b\",\n",
        "  u'q & (a | b) #which element is in both of these sets?',\n",
        "  u'# this is pretty volitile...wont be the same\\n# order on all machines\\nfor i in q & (a | b):\\n    print i, ',\n",
        "  u'q.remove(\"a\")',\n",
        "  u'L = [1,2,3,1,2,3]\\nlist(set(L))',\n",
        "  u\"L = [1,2,3,1,2,3,'spam']\\nlist(set(L))\",\n",
        "  u\"L = [1,2,3,1,2,3,'spam']\\nlist(set(L))\",\n",
        "  u'set(spam)',\n",
        "  u\"set('spam')\",\n",
        "  u'set(\\'spam\\')\\nfor element in \"spam\"\\n    print epement',\n",
        "  u'set(\\'spam\\')\\nfor element in \"spam\"\\n    print element',\n",
        "  u'set(\\'spam\\')\\nfor element in \"spam\"\\n    print element\\n    set(\"spam\")',\n",
        "  u'set(\\'spam\\')\\nfor element in \"spam\"\\n    print element',\n",
        "  u'set(\\'spam\\')\\nfor element in \"spam\":\\n    print element',\n",
        "  u'set(\\'spam\\')\\nfor element in \"spam\":\\n    print element\\n    \\nq = set(\"spamIam\")\\nprint q\\nq.remove(a)\\nprint q',\n",
        "  u'set(\\'spam\\')\\nfor element in \"spam\":\\n    print element\\n    \\nq = set(\"spamIam\")\\nprint q\\nq.remove(a)\\nprint q',\n",
        "  u'set(\\'spam\\')\\nfor element in \"spam\":\\n    print element\\n    \\nq = set(\"spamIam\")\\nprint q\\nq.remove(\\'a\\')\\nprint q',\n",
        "  u'set(\\'spam\\')\\nfor element in \"spam\":\\n    print element\\n    \\nq = set(\"spamIam\")\\nprint q\\nq.remove(\\'a\\')\\nprint q\\nprint, q.pop()',\n",
        "  u'set(\\'spam\\')\\nfor element in \"spam\":\\n    print element\\n    \\nq = set(\"spamIam\")\\nprint q\\nq.remove(\\'a\\')\\nprint q\\nprint q.pop()',\n",
        "  u'set(\\'spam\\')\\nfor element in \"spam\":\\n    print element\\n    \\nq = set(\"spamIam\")\\nprint q\\nq.remove(\\'a\\')\\nprint q\\nprint q.pop()\\nprint q',\n",
        "  u'set(\\'spam\\')\\nfor element in \"spam\":\\n    print element\\n    \\nq = set(\"spamIam\")\\nprint q\\nq.remove(\\'a\\')\\nprint q\\nprint q.pop()\\nprint q\\nprint q.pop()\\nprint, q',\n",
        "  u'set(\\'spam\\')\\nfor element in \"spam\":\\n    print element\\n    \\nq = set(\"spamIam\")\\nprint q\\nq.remove(\\'a\\')\\nprint q\\nprint q.pop()\\nprint q\\nprint q.pop()\\nprint q',\n",
        "  u'# number 1... curly braces & colons\\nd = {\"favorite cat\": None,\\n     \"favorite spam\": \"all\"}\\nprint d',\n",
        "  u\"# number 2\\nd = dict(one = 1, two=2, cat='dog')\\nprint d\",\n",
        "  u\"# number 3 ... just start filling in items/keys\\nd = {}  # empty dictionary\\nd['cat'] = 'dog'\\nd['one'] = 1\\nd['two'] = 2\\nprint d\",\n",
        "  u'# number 4... start with a list of tuples\\nmylist = [(\"cat\",\"dog\"), (\"one\",1),(\"two\",2)]\\nprint dict(mylist)',\n",
        "  u'dict(mylist) == d',\n",
        "  u'locals()'],\n",
        " 'L': [1, 2, 3, 1, 2, 3, 'spam'],\n",
        " 'Out': {4: 5,\n",
        "  9: [-1.2, None],\n",
        "  10: [-1.2, None],\n",
        "  11: [-1.2, None],\n",
        "  19: [-1.2, None],\n",
        "  20: ('monty', 'python'),\n",
        "  26: 'eggs',\n",
        "  27: 'elderberries',\n",
        "  30: -1,\n",
        "  38: 1,\n",
        "  39: 2,\n",
        "  51: <function append>,\n",
        "  77: True,\n",
        "  78: False,\n",
        "  79: False,\n",
        "  83: True,\n",
        "  84: True,\n",
        "  85: False,\n",
        "  86: True,\n",
        "  87: {'a', 'm', 'p', 's'},\n",
        "  88: {'I'},\n",
        "  89: {'a', 'm', 'p', 's'},\n",
        "  92: [1, 2, 3],\n",
        "  93: [1, 2, 3, 'spam'],\n",
        "  94: [1, 2, 3, 'spam'],\n",
        "  96: {'a', 'm', 'p', 's'},\n",
        "  114: True},\n",
        " '_': True,\n",
        " '_10': [-1.2, None],\n",
        " '_11': [-1.2, None],\n",
        " '_114': True,\n",
        " '_19': [-1.2, None],\n",
        " '_20': ('monty', 'python'),\n",
        " '_26': 'eggs',\n",
        " '_27': 'elderberries',\n",
        " '_30': -1,\n",
        " '_38': 1,\n",
        " '_39': 2,\n",
        " '_4': 5,\n",
        " '_51': <function append>,\n",
        " '_77': True,\n",
        " '_78': False,\n",
        " '_79': False,\n",
        " '_83': True,\n",
        " '_84': True,\n",
        " '_85': False,\n",
        " '_86': True,\n",
        " '_87': {'a', 'm', 'p', 's'},\n",
        " '_88': {'I'},\n",
        " '_89': {'a', 'm', 'p', 's'},\n",
        " '_9': [-1.2, None],\n",
        " '_92': [1, 2, 3],\n",
        " '_93': [1, 2, 3, 'spam'],\n",
        " '_94': [1, 2, 3, 'spam'],\n",
        " '_96': {'a', 'm', 'p', 's'},\n",
        " '__': {'a', 'm', 'p', 's'},\n",
        " '___': [1, 2, 3, 'spam'],\n",
        " '__builtin__': <module '__builtin__' (built-in)>,\n",
        " '__builtins__': <module '__builtin__' (built-in)>,\n",
        " '__name__': '__main__',\n",
        " '_dh': [u'/Users/giada/2013_fall_ASTR599/notebooks'],\n",
        " '_i': u'dict(mylist) == d',\n",
        " '_i1': u't = (12, -1)\\nprint type(t)',\n",
        " '_i10': u'v[0] =\"green egg\"\\nv[1] += \",love it.\"\\nv[-1]',\n",
        " '_i100': u'set(\\'spam\\')\\nfor element in \"spam\"\\n    print element',\n",
        " '_i101': u'set(\\'spam\\')\\nfor element in \"spam\":\\n    print element',\n",
        " '_i102': u'set(\\'spam\\')\\nfor element in \"spam\":\\n    print element\\n    \\nq = set(\"spamIam\")\\nprint q\\nq.remove(a)\\nprint q',\n",
        " '_i103': u'set(\\'spam\\')\\nfor element in \"spam\":\\n    print element\\n    \\nq = set(\"spamIam\")\\nprint q\\nq.remove(a)\\nprint q',\n",
        " '_i104': u'set(\\'spam\\')\\nfor element in \"spam\":\\n    print element\\n    \\nq = set(\"spamIam\")\\nprint q\\nq.remove(\\'a\\')\\nprint q',\n",
        " '_i105': u'set(\\'spam\\')\\nfor element in \"spam\":\\n    print element\\n    \\nq = set(\"spamIam\")\\nprint q\\nq.remove(\\'a\\')\\nprint q\\nprint, q.pop()',\n",
        " '_i106': u'set(\\'spam\\')\\nfor element in \"spam\":\\n    print element\\n    \\nq = set(\"spamIam\")\\nprint q\\nq.remove(\\'a\\')\\nprint q\\nprint q.pop()',\n",
        " '_i107': u'set(\\'spam\\')\\nfor element in \"spam\":\\n    print element\\n    \\nq = set(\"spamIam\")\\nprint q\\nq.remove(\\'a\\')\\nprint q\\nprint q.pop()\\nprint q',\n",
        " '_i108': u'set(\\'spam\\')\\nfor element in \"spam\":\\n    print element\\n    \\nq = set(\"spamIam\")\\nprint q\\nq.remove(\\'a\\')\\nprint q\\nprint q.pop()\\nprint q\\nprint q.pop()\\nprint, q',\n",
        " '_i109': u'set(\\'spam\\')\\nfor element in \"spam\":\\n    print element\\n    \\nq = set(\"spamIam\")\\nprint q\\nq.remove(\\'a\\')\\nprint q\\nprint q.pop()\\nprint q\\nprint q.pop()\\nprint q',\n",
        " '_i11': u'v[0] =\"green egg\"\\nv[1] += \",love it.\"\\nv[-1]',\n",
        " '_i110': u'# number 1... curly braces & colons\\nd = {\"favorite cat\": None,\\n     \"favorite spam\": \"all\"}\\nprint d',\n",
        " '_i111': u\"# number 2\\nd = dict(one = 1, two=2, cat='dog')\\nprint d\",\n",
        " '_i112': u\"# number 3 ... just start filling in items/keys\\nd = {}  # empty dictionary\\nd['cat'] = 'dog'\\nd['one'] = 1\\nd['two'] = 2\\nprint d\",\n",
        " '_i113': u'# number 4... start with a list of tuples\\nmylist = [(\"cat\",\"dog\"), (\"one\",1),(\"two\",2)]\\nprint dict(mylist)',\n",
        " '_i114': u'dict(mylist) == d',\n",
        " '_i115': u'locals()',\n",
        " '_i12': u'v[-1][1] = None\\nprint v',\n",
        " '_i13': u'v[-1][1] = None\\nprint v',\n",
        " '_i14': u'v = v[2:]\\nprint v',\n",
        " '_i15': u'determinant = vv[0][0] * vv[1][1] - vv[0][1] * vv[1][0]\\nprint determinant',\n",
        " '_i16': u\"# let's make a proto-array out of nested lists\\nvv = [ [1,2], [3,4] ]\",\n",
        " '_i17': u'print len(vv)',\n",
        " '_i18': u'determinant = vv[0][0] * vv[1][1] - vv[0][1] * vv[1][0]\\nprint determinant',\n",
        " '_i19': u'v.pop()',\n",
        " '_i2': u't = (12, -1,2)\\nprint type(t)',\n",
        " '_i20': u'v.pop()',\n",
        " '_i21': u'v.extend(w)\\nprint v',\n",
        " '_i22': u'print v',\n",
        " '_i23': u\"v = v[:4]\\nw = ['elderberries', 'eggs']\\nprint v + w\",\n",
        " '_i24': u'print v',\n",
        " '_i25': u'v.extend(w)\\nprint v',\n",
        " '_i26': u'v.pop()',\n",
        " '_i27': u'v.pop()',\n",
        " '_i28': u'print v',\n",
        " '_i29': u'print v',\n",
        " '_i3': u'y = t[0:2] + (False,) + t[3:]\\nprint y',\n",
        " '_i30': u'v.pop(0) ## pop the first element',\n",
        " '_i31': u'print v',\n",
        " '_i32': u'v = [1, 3, 2, 3, 4]\\nv.sort() ; print v',\n",
        " '_i33': u'v = [1, 3, 2, 3, 4]\\nv.sort() ; print v',\n",
        " '_i34': u'A = [1,2,3]\\nA.append(4)\\nprint, a\\n\\nE = [1,2,3]\\nA += E\\n#same as A.extend(E)\\nprint A ',\n",
        " '_i35': u'A = [1,2,3]\\nA.append(4)\\nprint a\\n\\nE = [1,2,3]\\nA += E\\n#same as A.extend(E)\\nprint A ',\n",
        " '_i36': u'A = [1,2,3]\\nA.append(4)\\nprint A\\n\\nE = [1,2,3]\\nA += E\\n#same as A.extend(E)\\nprint A ',\n",
        " '_i37': u'v.sort(reverse=True) ; print v',\n",
        " '_i38': u'v.index(3)',\n",
        " '_i39': u'v.count(3)',\n",
        " '_i4': u'v = [\"eggs\", \"spam\", -1, (\"monty\",\"python\"), [-1.2,-3.5]]\\nlen(v)',\n",
        " '_i40': u'v.insert(0, \"it\\'s full of stars\") ; print v',\n",
        " '_i41': u'v.remove(1) ; print v',\n",
        " '_i42': u'v.remove(1) ; print v',\n",
        " '_i43': u'v.remove(1) ; print v',\n",
        " '_i44': u'v.insert(0, \"it\\'s full of stars\") ; print v',\n",
        " '_i45': u'v.remove(1) ; print v',\n",
        " '_i46': u'v.remove(3) ; print v',\n",
        " '_i47': u'v.?',\n",
        " '_i48': u'v.append?',\n",
        " '_i49': u'v.append?',\n",
        " '_i5': u'v = [\"eggs\", \"spam\", -1, (\"monty\",\"python\"), [-1.2,-3.5]]\\nlen(v)\\nprint, type(v[1])',\n",
        " '_i50': u'v.',\n",
        " '_i51': u'v.append',\n",
        " '_i52': u\"a = ['cat', 'window', 'defenestrate']\\nfor x in a:\\n    print x, len(x)\",\n",
        " '_i53': u\"for i,x in enumerate(a):\\n    print i, x, len(x) #you don't have to use i as indices\\n    \\nfor range,x in enumerate(a):\\n    print, range, x, len(x)\",\n",
        " '_i54': u\"for i,x in enumerate(a):\\n    print i, x, len(x) #you don't have to use i as indices\\n    \\nfor ii,x in enumerate(a):\\n    print, ii, x, len(x)\",\n",
        " '_i55': u\"for i,x in enumerate(a):\\n    print i, x, len(x) #you don't have to use i as indices\\n    \\nfor ii,x in enumerate(a):\\n    print ii, x, len(x)\",\n",
        " '_i56': u'for x in a:\\n    print x,',\n",
        " '_i57': u'for x in a:\\n    print x',\n",
        " '_i58': u'for x in a:\\n    print x,',\n",
        " '_i59': u'x = range(4)\\nprint x',\n",
        " '_i6': u'v = [\"eggs\", \"spam\", -1, (\"monty\",\"python\"), [-1.2,-3.5]]\\nlen(v)\\nprint type(v[1])',\n",
        " '_i60': u'x = range(4)\\nprint x\\n\\nxx = range(4,8,2)\\nprint xx',\n",
        " '_i61': u'x = range(4)\\nprint x\\n\\nxx = range(4,9,2)\\nprint xx',\n",
        " '_i62': u'total = 0\\nfor val in range(4):\\n    total += val\\n    print \"By adding \" + str(val) + \\\\\\n          \" the total is now \" + str(total)',\n",
        " '_i63': u'total = 0\\nfor val in range(4):\\n    total += val\\n    print \"By adding \" + str(val) + \\\\\\n          \" the total is now \" + str(total)',\n",
        " '_i64': u'total = 0\\nfor val in range(4):\\n    total += val\\n    print \"By adding \" + str(val) + \\\\\\n          \" the total is now \" + str(total)',\n",
        " '_i65': u\"a = ['Mary', 'had', 'a', 'little', 'lamb']\\nfor i in range(len(a)):\\n    print i, a[i+2]\",\n",
        " '_i66': u\"a = ['Mary', 'had', 'a', 'little', 'lamb']\\nfor i in range(len(a)):\\n    print i, a[i]\",\n",
        " '_i67': u'L = [\"Oh\", \"Say\", \"does\", \"that\", \"star\", \"spangled\", \"banner\", \"yet\", \"wave\"]',\n",
        " '_i68': u'L = [\"Oh\", \"Say\", \"does\", \"that\", \"star\", \"spangled\", \"banner\", \"yet\", \"wave\"]',\n",
        " '_i69': u'L = [\"Oh\", \"Say\", \"does\", \"that\", \"star\", \"spangled\", \"banner\", \"yet\", \"wave\"]\\nfor i in range(len(L)):\\n    if len(L[i]) > 3:\\n        print, L[i]',\n",
        " '_i7': u'v = [\"eggs\", \"spam\", -1, (\"monty\",\"python\"), [-1.2,-3.5]]\\nlen(v)\\nprint type(v[2])',\n",
        " '_i70': u'L = [\"Oh\", \"Say\", \"does\", \"that\", \"star\", \"spangled\", \"banner\", \"yet\", \"wave\"]\\nfor i in range(len(L)):\\n    if len(L[i]) > 3:\\n        print L[i]',\n",
        " '_i71': u'L = [\"Oh\", \"Say\", \"does\", \"that\", \"star\", \"spangled\", \"banner\", \"yet\", \"wave\"]\\nfor i in range(len(L)):\\n    if len(L[i]) > 3:\\n        print L[i]\\n        \\n#or you can do:\\nfor word in L[i]\\n    if len(word) > 3:\\n        print word',\n",
        " '_i72': u'L = [\"Oh\", \"Say\", \"does\", \"that\", \"star\", \"spangled\", \"banner\", \"yet\", \"wave\"]\\nfor i in range(len(L)):\\n    if len(L[i]) > 3:\\n        print L[i]\\n        \\n#or you can do:\\nfor word in L\\n    if len(word) > 3:\\n        print word',\n",
        " '_i73': u'L = [\"Oh\", \"Say\", \"does\", \"that\", \"star\", \"spangled\", \"banner\", \"yet\", \"wave\"]\\nfor i in range(len(L)):\\n    if len(L[i]) > 3:\\n        print L[i]\\n        \\n#or you can do:\\nfor word in range(len(L)):\\n\\n    if len(word) > 3:\\n        print word',\n",
        " '_i74': u'L = [\"Oh\", \"Say\", \"does\", \"that\", \"star\", \"spangled\", \"banner\", \"yet\", \"wave\"]\\nfor i in range(len(L)):\\n    if len(L[i]) > 3:\\n        print L[i]\\n        \\n#or you can do:\\nfor word in range(len(L)):\\n    if len(word) > 3:\\n        print word',\n",
        " '_i75': u'L = [\"Oh\", \"Say\", \"does\", \"that\", \"star\", \"spangled\", \"banner\", \"yet\", \"wave\"]\\nfor i in range(len(L)):\\n    if len(L[i]) > 3:\\n        print L[i]\\n        ',\n",
        " '_i76': u'a = set(\"sp\"); b = set(\"am\"); print a ; print b',\n",
        " '_i77': u'c = set([\"a\",\"m\"])\\nc == b',\n",
        " '_i78': u'\"ps\" in a #ps as a single string is not in the set',\n",
        " '_i79': u'\"ps\" in a #ps as a single string is not in the set\\n\"sp\" in a',\n",
        " '_i8': u'v = [\"eggs\", \"spam\", -1, (\"monty\",\"python\"), [-1.2,-3.5]]\\nlen(v)\\nprint type(v[3])',\n",
        " '_i80': u'# this is pretty volitile...wont be the same\\n# order on all machines\\nfor i in q & (a | b):\\n    print i, ',\n",
        " '_i81': u'# this is pretty volitile...wont be the same\\n# order on all machines\\nfor i in q & (a | b):\\n    print i, ',\n",
        " '_i82': u'q & (a | b) #which element is in both of these sets?',\n",
        " '_i83': u'c = set([\"a\",\"m\"])\\nc == b',\n",
        " '_i84': u'\"p\" in a',\n",
        " '_i85': u'\"ps\" in a #ps as a single string is not in the set',\n",
        " '_i86': u'q = set(\"spamIam\")\\na.issubset(q) #are all the elements in a also in q?',\n",
        " '_i87': u'a | b #union operator for sets',\n",
        " '_i88': u\"q - (a | b) #what's in q minus everything in a and b\",\n",
        " '_i89': u'q & (a | b) #which element is in both of these sets?',\n",
        " '_i9': u'v[0] =\"green egg\"\\nv[1] += \",love it.\"\\nv[-1]',\n",
        " '_i90': u'# this is pretty volitile...wont be the same\\n# order on all machines\\nfor i in q & (a | b):\\n    print i, ',\n",
        " '_i91': u'q.remove(\"a\")',\n",
        " '_i92': u'L = [1,2,3,1,2,3]\\nlist(set(L))',\n",
        " '_i93': u\"L = [1,2,3,1,2,3,'spam']\\nlist(set(L))\",\n",
        " '_i94': u\"L = [1,2,3,1,2,3,'spam']\\nlist(set(L))\",\n",
        " '_i95': u'set(spam)',\n",
        " '_i96': u\"set('spam')\",\n",
        " '_i97': u'set(\\'spam\\')\\nfor element in \"spam\"\\n    print epement',\n",
        " '_i98': u'set(\\'spam\\')\\nfor element in \"spam\"\\n    print element',\n",
        " '_i99': u'set(\\'spam\\')\\nfor element in \"spam\"\\n    print element\\n    set(\"spam\")',\n",
        " '_ih': ['',\n",
        "  u't = (12, -1)\\nprint type(t)',\n",
        "  u't = (12, -1,2)\\nprint type(t)',\n",
        "  u'y = t[0:2] + (False,) + t[3:]\\nprint y',\n",
        "  u'v = [\"eggs\", \"spam\", -1, (\"monty\",\"python\"), [-1.2,-3.5]]\\nlen(v)',\n",
        "  u'v = [\"eggs\", \"spam\", -1, (\"monty\",\"python\"), [-1.2,-3.5]]\\nlen(v)\\nprint, type(v[1])',\n",
        "  u'v = [\"eggs\", \"spam\", -1, (\"monty\",\"python\"), [-1.2,-3.5]]\\nlen(v)\\nprint type(v[1])',\n",
        "  u'v = [\"eggs\", \"spam\", -1, (\"monty\",\"python\"), [-1.2,-3.5]]\\nlen(v)\\nprint type(v[2])',\n",
        "  u'v = [\"eggs\", \"spam\", -1, (\"monty\",\"python\"), [-1.2,-3.5]]\\nlen(v)\\nprint type(v[3])',\n",
        "  u'v[0] =\"green egg\"\\nv[1] += \",love it.\"\\nv[-1]',\n",
        "  u'v[0] =\"green egg\"\\nv[1] += \",love it.\"\\nv[-1]',\n",
        "  u'v[0] =\"green egg\"\\nv[1] += \",love it.\"\\nv[-1]',\n",
        "  u'v[-1][1] = None\\nprint v',\n",
        "  u'v[-1][1] = None\\nprint v',\n",
        "  u'v = v[2:]\\nprint v',\n",
        "  u'determinant = vv[0][0] * vv[1][1] - vv[0][1] * vv[1][0]\\nprint determinant',\n",
        "  u\"# let's make a proto-array out of nested lists\\nvv = [ [1,2], [3,4] ]\",\n",
        "  u'print len(vv)',\n",
        "  u'determinant = vv[0][0] * vv[1][1] - vv[0][1] * vv[1][0]\\nprint determinant',\n",
        "  u'v.pop()',\n",
        "  u'v.pop()',\n",
        "  u'v.extend(w)\\nprint v',\n",
        "  u'print v',\n",
        "  u\"v = v[:4]\\nw = ['elderberries', 'eggs']\\nprint v + w\",\n",
        "  u'print v',\n",
        "  u'v.extend(w)\\nprint v',\n",
        "  u'v.pop()',\n",
        "  u'v.pop()',\n",
        "  u'print v',\n",
        "  u'print v',\n",
        "  u'v.pop(0) ## pop the first element',\n",
        "  u'print v',\n",
        "  u'v = [1, 3, 2, 3, 4]\\nv.sort() ; print v',\n",
        "  u'v = [1, 3, 2, 3, 4]\\nv.sort() ; print v',\n",
        "  u'A = [1,2,3]\\nA.append(4)\\nprint, a\\n\\nE = [1,2,3]\\nA += E\\n#same as A.extend(E)\\nprint A ',\n",
        "  u'A = [1,2,3]\\nA.append(4)\\nprint a\\n\\nE = [1,2,3]\\nA += E\\n#same as A.extend(E)\\nprint A ',\n",
        "  u'A = [1,2,3]\\nA.append(4)\\nprint A\\n\\nE = [1,2,3]\\nA += E\\n#same as A.extend(E)\\nprint A ',\n",
        "  u'v.sort(reverse=True) ; print v',\n",
        "  u'v.index(3)',\n",
        "  u'v.count(3)',\n",
        "  u'v.insert(0, \"it\\'s full of stars\") ; print v',\n",
        "  u'v.remove(1) ; print v',\n",
        "  u'v.remove(1) ; print v',\n",
        "  u'v.remove(1) ; print v',\n",
        "  u'v.insert(0, \"it\\'s full of stars\") ; print v',\n",
        "  u'v.remove(1) ; print v',\n",
        "  u'v.remove(3) ; print v',\n",
        "  u'v.?',\n",
        "  u\"get_ipython().magic(u'pinfo v.append')\",\n",
        "  u\"get_ipython().magic(u'pinfo v.append')\",\n",
        "  u'v.',\n",
        "  u'v.append',\n",
        "  u\"a = ['cat', 'window', 'defenestrate']\\nfor x in a:\\n    print x, len(x)\",\n",
        "  u\"for i,x in enumerate(a):\\n    print i, x, len(x) #you don't have to use i as indices\\n    \\nfor range,x in enumerate(a):\\n    print, range, x, len(x)\",\n",
        "  u\"for i,x in enumerate(a):\\n    print i, x, len(x) #you don't have to use i as indices\\n    \\nfor ii,x in enumerate(a):\\n    print, ii, x, len(x)\",\n",
        "  u\"for i,x in enumerate(a):\\n    print i, x, len(x) #you don't have to use i as indices\\n    \\nfor ii,x in enumerate(a):\\n    print ii, x, len(x)\",\n",
        "  u'for x in a:\\n    print x,',\n",
        "  u'for x in a:\\n    print x',\n",
        "  u'for x in a:\\n    print x,',\n",
        "  u'x = range(4)\\nprint x',\n",
        "  u'x = range(4)\\nprint x\\n\\nxx = range(4,8,2)\\nprint xx',\n",
        "  u'x = range(4)\\nprint x\\n\\nxx = range(4,9,2)\\nprint xx',\n",
        "  u'total = 0\\nfor val in range(4):\\n    total += val\\n    print \"By adding \" + str(val) +           \" the total is now \" + str(total)',\n",
        "  u'total = 0\\nfor val in range(4):\\n    total += val\\n    print \"By adding \" + str(val) +           \" the total is now \" + str(total)',\n",
        "  u'total = 0\\nfor val in range(4):\\n    total += val\\n    print \"By adding \" + str(val) +           \" the total is now \" + str(total)',\n",
        "  u\"a = ['Mary', 'had', 'a', 'little', 'lamb']\\nfor i in range(len(a)):\\n    print i, a[i+2]\",\n",
        "  u\"a = ['Mary', 'had', 'a', 'little', 'lamb']\\nfor i in range(len(a)):\\n    print i, a[i]\",\n",
        "  u'L = [\"Oh\", \"Say\", \"does\", \"that\", \"star\", \"spangled\", \"banner\", \"yet\", \"wave\"]',\n",
        "  u'L = [\"Oh\", \"Say\", \"does\", \"that\", \"star\", \"spangled\", \"banner\", \"yet\", \"wave\"]',\n",
        "  u'L = [\"Oh\", \"Say\", \"does\", \"that\", \"star\", \"spangled\", \"banner\", \"yet\", \"wave\"]\\nfor i in range(len(L)):\\n    if len(L[i]) > 3:\\n        print, L[i]',\n",
        "  u'L = [\"Oh\", \"Say\", \"does\", \"that\", \"star\", \"spangled\", \"banner\", \"yet\", \"wave\"]\\nfor i in range(len(L)):\\n    if len(L[i]) > 3:\\n        print L[i]',\n",
        "  u'L = [\"Oh\", \"Say\", \"does\", \"that\", \"star\", \"spangled\", \"banner\", \"yet\", \"wave\"]\\nfor i in range(len(L)):\\n    if len(L[i]) > 3:\\n        print L[i]\\n        \\n#or you can do:\\nfor word in L[i]\\n    if len(word) > 3:\\n        print word',\n",
        "  u'L = [\"Oh\", \"Say\", \"does\", \"that\", \"star\", \"spangled\", \"banner\", \"yet\", \"wave\"]\\nfor i in range(len(L)):\\n    if len(L[i]) > 3:\\n        print L[i]\\n        \\n#or you can do:\\nfor word in L\\n    if len(word) > 3:\\n        print word',\n",
        "  u'L = [\"Oh\", \"Say\", \"does\", \"that\", \"star\", \"spangled\", \"banner\", \"yet\", \"wave\"]\\nfor i in range(len(L)):\\n    if len(L[i]) > 3:\\n        print L[i]\\n        \\n#or you can do:\\nfor word in range(len(L)):\\n\\n    if len(word) > 3:\\n        print word',\n",
        "  u'L = [\"Oh\", \"Say\", \"does\", \"that\", \"star\", \"spangled\", \"banner\", \"yet\", \"wave\"]\\nfor i in range(len(L)):\\n    if len(L[i]) > 3:\\n        print L[i]\\n        \\n#or you can do:\\nfor word in range(len(L)):\\n    if len(word) > 3:\\n        print word',\n",
        "  u'L = [\"Oh\", \"Say\", \"does\", \"that\", \"star\", \"spangled\", \"banner\", \"yet\", \"wave\"]\\nfor i in range(len(L)):\\n    if len(L[i]) > 3:\\n        print L[i]\\n        ',\n",
        "  u'a = set(\"sp\"); b = set(\"am\"); print a ; print b',\n",
        "  u'c = set([\"a\",\"m\"])\\nc == b',\n",
        "  u'\"ps\" in a #ps as a single string is not in the set',\n",
        "  u'\"ps\" in a #ps as a single string is not in the set\\n\"sp\" in a',\n",
        "  u'# this is pretty volitile...wont be the same\\n# order on all machines\\nfor i in q & (a | b):\\n    print i, ',\n",
        "  u'# this is pretty volitile...wont be the same\\n# order on all machines\\nfor i in q & (a | b):\\n    print i, ',\n",
        "  u'q & (a | b) #which element is in both of these sets?',\n",
        "  u'c = set([\"a\",\"m\"])\\nc == b',\n",
        "  u'\"p\" in a',\n",
        "  u'\"ps\" in a #ps as a single string is not in the set',\n",
        "  u'q = set(\"spamIam\")\\na.issubset(q) #are all the elements in a also in q?',\n",
        "  u'a | b #union operator for sets',\n",
        "  u\"q - (a | b) #what's in q minus everything in a and b\",\n",
        "  u'q & (a | b) #which element is in both of these sets?',\n",
        "  u'# this is pretty volitile...wont be the same\\n# order on all machines\\nfor i in q & (a | b):\\n    print i, ',\n",
        "  u'q.remove(\"a\")',\n",
        "  u'L = [1,2,3,1,2,3]\\nlist(set(L))',\n",
        "  u\"L = [1,2,3,1,2,3,'spam']\\nlist(set(L))\",\n",
        "  u\"L = [1,2,3,1,2,3,'spam']\\nlist(set(L))\",\n",
        "  u'set(spam)',\n",
        "  u\"set('spam')\",\n",
        "  u'set(\\'spam\\')\\nfor element in \"spam\"\\n    print epement',\n",
        "  u'set(\\'spam\\')\\nfor element in \"spam\"\\n    print element',\n",
        "  u'set(\\'spam\\')\\nfor element in \"spam\"\\n    print element\\n    set(\"spam\")',\n",
        "  u'set(\\'spam\\')\\nfor element in \"spam\"\\n    print element',\n",
        "  u'set(\\'spam\\')\\nfor element in \"spam\":\\n    print element',\n",
        "  u'set(\\'spam\\')\\nfor element in \"spam\":\\n    print element\\n    \\nq = set(\"spamIam\")\\nprint q\\nq.remove(a)\\nprint q',\n",
        "  u'set(\\'spam\\')\\nfor element in \"spam\":\\n    print element\\n    \\nq = set(\"spamIam\")\\nprint q\\nq.remove(a)\\nprint q',\n",
        "  u'set(\\'spam\\')\\nfor element in \"spam\":\\n    print element\\n    \\nq = set(\"spamIam\")\\nprint q\\nq.remove(\\'a\\')\\nprint q',\n",
        "  u'set(\\'spam\\')\\nfor element in \"spam\":\\n    print element\\n    \\nq = set(\"spamIam\")\\nprint q\\nq.remove(\\'a\\')\\nprint q\\nprint, q.pop()',\n",
        "  u'set(\\'spam\\')\\nfor element in \"spam\":\\n    print element\\n    \\nq = set(\"spamIam\")\\nprint q\\nq.remove(\\'a\\')\\nprint q\\nprint q.pop()',\n",
        "  u'set(\\'spam\\')\\nfor element in \"spam\":\\n    print element\\n    \\nq = set(\"spamIam\")\\nprint q\\nq.remove(\\'a\\')\\nprint q\\nprint q.pop()\\nprint q',\n",
        "  u'set(\\'spam\\')\\nfor element in \"spam\":\\n    print element\\n    \\nq = set(\"spamIam\")\\nprint q\\nq.remove(\\'a\\')\\nprint q\\nprint q.pop()\\nprint q\\nprint q.pop()\\nprint, q',\n",
        "  u'set(\\'spam\\')\\nfor element in \"spam\":\\n    print element\\n    \\nq = set(\"spamIam\")\\nprint q\\nq.remove(\\'a\\')\\nprint q\\nprint q.pop()\\nprint q\\nprint q.pop()\\nprint q',\n",
        "  u'# number 1... curly braces & colons\\nd = {\"favorite cat\": None,\\n     \"favorite spam\": \"all\"}\\nprint d',\n",
        "  u\"# number 2\\nd = dict(one = 1, two=2, cat='dog')\\nprint d\",\n",
        "  u\"# number 3 ... just start filling in items/keys\\nd = {}  # empty dictionary\\nd['cat'] = 'dog'\\nd['one'] = 1\\nd['two'] = 2\\nprint d\",\n",
        "  u'# number 4... start with a list of tuples\\nmylist = [(\"cat\",\"dog\"), (\"one\",1),(\"two\",2)]\\nprint dict(mylist)',\n",
        "  u'dict(mylist) == d',\n",
        "  u'locals()'],\n",
        " '_ii': u'# number 4... start with a list of tuples\\nmylist = [(\"cat\",\"dog\"), (\"one\",1),(\"two\",2)]\\nprint dict(mylist)',\n",
        " '_iii': u\"# number 3 ... just start filling in items/keys\\nd = {}  # empty dictionary\\nd['cat'] = 'dog'\\nd['one'] = 1\\nd['two'] = 2\\nprint d\",\n",
        " '_oh': {4: 5,\n",
        "  9: [-1.2, None],\n",
        "  10: [-1.2, None],\n",
        "  11: [-1.2, None],\n",
        "  19: [-1.2, None],\n",
        "  20: ('monty', 'python'),\n",
        "  26: 'eggs',\n",
        "  27: 'elderberries',\n",
        "  30: -1,\n",
        "  38: 1,\n",
        "  39: 2,\n",
        "  51: <function append>,\n",
        "  77: True,\n",
        "  78: False,\n",
        "  79: False,\n",
        "  83: True,\n",
        "  84: True,\n",
        "  85: False,\n",
        "  86: True,\n",
        "  87: {'a', 'm', 'p', 's'},\n",
        "  88: {'I'},\n",
        "  89: {'a', 'm', 'p', 's'},\n",
        "  92: [1, 2, 3],\n",
        "  93: [1, 2, 3, 'spam'],\n",
        "  94: [1, 2, 3, 'spam'],\n",
        "  96: {'a', 'm', 'p', 's'},\n",
        "  114: True},\n",
        " '_sh': <module 'IPython.core.shadowns' from '/Users/giada/anaconda/python.app/Contents/lib/python2.7/site-packages/IPython/core/shadowns.pyc'>,\n",
        " 'a': {'p', 's'},\n",
        " 'b': {'a', 'm'},\n",
        " 'c': {'a', 'm'},\n",
        " 'd': {'cat': 'dog', 'one': 1, 'two': 2},\n",
        " 'determinant': -2,\n",
        " 'element': 'm',\n",
        " 'exit': <IPython.core.autocall.ZMQExitAutocall at 0x1022bfa10>,\n",
        " 'get_ipython': <bound method ZMQInteractiveShell.get_ipython of <IPython.kernel.zmq.zmqshell.ZMQInteractiveShell object at 0x1022357d0>>,\n",
        " 'help': Type help() for interactive help, or help(object) for help about object.,\n",
        " 'i': 'm',\n",
        " 'ii': 2,\n",
        " 'mylist': [('cat', 'dog'), ('one', 1), ('two', 2)],\n",
        " 'q': {'I', 'm'},\n",
        " 'quit': <IPython.core.autocall.ZMQExitAutocall at 0x1022bfa10>,\n",
        " 't': (12, -1, 2),\n",
        " 'total': 6,\n",
        " 'v': [\"it's full of stars\", \"it's full of stars\", 4, 3, 2],\n",
        " 'val': 3,\n",
        " 'vv': [[1, 2], [3, 4]],\n",
        " 'w': ['elderberries', 'eggs'],\n",
        " 'word': 0,\n",
        " 'x': [0, 1, 2, 3],\n",
        " 'xx': [4, 6, 8],\n",
        " 'y': (12, -1, False)}"
       ]
      }
     ],
     "prompt_number": 115
    },
    {
     "cell_type": "markdown",
     "metadata": {},
     "source": [
      "#### Dictionaries can be complicated (in a good way) ####"
     ]
    },
    {
     "cell_type": "markdown",
     "metadata": {},
     "source": [
      "Note that there is no guaranteed order in a dictionary!"
     ]
    },
    {
     "cell_type": "code",
     "collapsed": true,
     "input": [
      "d = {\"favorite cat\": None, \"favorite spam\": \"all\"}"
     ],
     "language": "python",
     "metadata": {},
     "outputs": [],
     "prompt_number": 75
    },
    {
     "cell_type": "code",
     "collapsed": false,
     "input": [
      "print d[0]  # this breaks!  Dictionaries have no order"
     ],
     "language": "python",
     "metadata": {},
     "outputs": [
      {
       "ename": "KeyError",
       "evalue": "0",
       "output_type": "pyerr",
       "traceback": [
        "\u001b[0;31m---------------------------------------------------------------------------\u001b[0m\n\u001b[0;31mKeyError\u001b[0m                                  Traceback (most recent call last)",
        "\u001b[0;32m<ipython-input-43-21ddf1fce1c6>\u001b[0m in \u001b[0;36m<module>\u001b[0;34m()\u001b[0m\n\u001b[0;32m----> 1\u001b[0;31m \u001b[0;32mprint\u001b[0m \u001b[0md\u001b[0m\u001b[0;34m[\u001b[0m\u001b[0;36m0\u001b[0m\u001b[0;34m]\u001b[0m  \u001b[0;31m# this breaks!  Dictionaries have no order\u001b[0m\u001b[0;34m\u001b[0m\u001b[0m\n\u001b[0m",
        "\u001b[0;31mKeyError\u001b[0m: 0"
       ]
      }
     ],
     "prompt_number": 43
    },
    {
     "cell_type": "code",
     "collapsed": false,
     "input": [
      "d[\"favorite spam\"]"
     ],
     "language": "python",
     "metadata": {},
     "outputs": [
      {
       "metadata": {},
       "output_type": "pyout",
       "prompt_number": 45,
       "text": [
        "'all'"
       ]
      }
     ],
     "prompt_number": 45
    },
    {
     "cell_type": "code",
     "collapsed": false,
     "input": [
      "d[0] = \"this is a zero\"\n",
      "print d\n",
      "#think of the 0 as a key that contains 'this is a zero', not index 0"
     ],
     "language": "python",
     "metadata": {},
     "outputs": [
      {
       "output_type": "stream",
       "stream": "stdout",
       "text": [
        "{0: 'this is a zero', 'favorite spam': 'all', 'favorite cat': None}\n"
       ]
      }
     ],
     "prompt_number": 2
    },
    {
     "cell_type": "markdown",
     "metadata": {},
     "source": [
      "Dictionaries can contain dictionaries!"
     ]
    },
    {
     "cell_type": "code",
     "collapsed": false,
     "input": [
      "d = {'favorites': {'cat': None, 'spam': 'all'},\n",
      "     'least favorite': {'cat': 'all', 'spam': None}}\n",
      "print d['least favorite']['cat']"
     ],
     "language": "python",
     "metadata": {},
     "outputs": [
      {
       "output_type": "stream",
       "stream": "stdout",
       "text": [
        "all\n"
       ]
      }
     ],
     "prompt_number": 46
    },
    {
     "cell_type": "markdown",
     "metadata": {},
     "source": [
      "remember: the backslash (\\) allows you to across break lines. Not technically needed when defining a dictionary or list"
     ]
    },
    {
     "cell_type": "code",
     "collapsed": true,
     "input": [
      "phone_numbers = {'family': [('mom','642-2322'),('dad','534-2311')],\n",
      "                 'friends': [('Billy','652-2212')]}"
     ],
     "language": "python",
     "metadata": {},
     "outputs": [],
     "prompt_number": 117
    },
    {
     "cell_type": "code",
     "collapsed": false,
     "input": [
      "for group_type in ['friends', 'family']:\n",
      "    print \"Group \" + group_type + \":\"\n",
      "    for info in phone_numbers[group_type]:\n",
      "        print \" \",info[0], info[1]"
     ],
     "language": "python",
     "metadata": {},
     "outputs": [
      {
       "output_type": "stream",
       "stream": "stdout",
       "text": [
        "Group friends:\n",
        "  Billy 652-2212\n",
        "Group family:\n",
        "  mom 642-2322\n",
        "  dad 534-2311\n"
       ]
      }
     ],
     "prompt_number": 118
    },
    {
     "cell_type": "code",
     "collapsed": false,
     "input": [
      "# this will return a list, but you dont know in what order! \n",
      "phone_numbers.keys()"
     ],
     "language": "python",
     "metadata": {},
     "outputs": [
      {
       "metadata": {},
       "output_type": "pyout",
       "prompt_number": 119,
       "text": [
        "['friends', 'family']"
       ]
      }
     ],
     "prompt_number": 119
    },
    {
     "cell_type": "code",
     "collapsed": false,
     "input": [
      "print phone_numbers['family']"
     ],
     "language": "python",
     "metadata": {},
     "outputs": [
      {
       "output_type": "stream",
       "stream": "stdout",
       "text": [
        "[('mom', '642-2322'), ('dad', '534-2311')]\n"
       ]
      }
     ],
     "prompt_number": 123
    },
    {
     "cell_type": "code",
     "collapsed": false,
     "input": [
      "phone_numbers.values()"
     ],
     "language": "python",
     "metadata": {},
     "outputs": [
      {
       "output_type": "pyout",
       "prompt_number": 82,
       "text": [
        "[[('Billy', '652-2212')], [('mom', '642-2322'), ('dad', '534-2311')]]"
       ]
      }
     ],
     "prompt_number": 82
    },
    {
     "cell_type": "markdown",
     "metadata": {},
     "source": [
      "`.keys()` and `.values()`: are *methods* on dictionaries (just like `.append()` and `.extend()` on lists)"
     ]
    },
    {
     "cell_type": "code",
     "collapsed": false,
     "input": [
      "for group_type in phone_numbers.keys():\n",
      "    print \"Group \" + group_type + \":\"\n",
      "    for info in phone_numbers[group_type]:\n",
      "        print \" \",info[0], info[1]"
     ],
     "language": "python",
     "metadata": {},
     "outputs": [
      {
       "output_type": "stream",
       "stream": "stdout",
       "text": [
        "Group friends:\n",
        "  Billy 652-2212\n",
        "Group family:\n",
        "  mom 642-2322\n",
        "  dad 534-2311"
       ]
      }
     ],
     "prompt_number": 83
    },
    {
     "cell_type": "markdown",
     "metadata": {},
     "source": [
      "we cannot ensure ordering here of the groups"
     ]
    },
    {
     "cell_type": "code",
     "collapsed": false,
     "input": [
      "groups = phone_numbers.keys()\n",
      "groups.sort()\n",
      "for group_type in groups:\n",
      "    print \"Group \" + group_type + \":\"\n",
      "    for info in phone_numbers[group_type]:\n",
      "        print \" \",info[0], info[1]"
     ],
     "language": "python",
     "metadata": {},
     "outputs": [
      {
       "output_type": "stream",
       "stream": "stdout",
       "text": [
        "Group family:\n",
        "  mom 642-2322\n",
        "  dad 534-2311\n",
        "Group friends:\n",
        "  Billy 652-2212"
       ]
      }
     ],
     "prompt_number": 84
    },
    {
     "cell_type": "markdown",
     "metadata": {},
     "source": [
      "`.iteritems()` is a handy method,\n",
      "returning key,value pairs with each iteration"
     ]
    },
    {
     "cell_type": "code",
     "collapsed": false,
     "input": [
      "for group_type, vals in phone_numbers.iteritems():\n",
      "    print \"Group \" + group_type + \":\"\n",
      "    for info in vals:\n",
      "        print \" \",info[0], info[1]"
     ],
     "language": "python",
     "metadata": {},
     "outputs": [
      {
       "output_type": "stream",
       "stream": "stdout",
       "text": [
        "Group friends:\n",
        "  Billy 652-2212\n",
        "Group family:\n",
        "  mom 642-2322\n",
        "  dad 534-2311\n"
       ]
      }
     ],
     "prompt_number": 48
    },
    {
     "cell_type": "markdown",
     "metadata": {},
     "source": [
      "Some examples of getting values:"
     ]
    },
    {
     "cell_type": "code",
     "collapsed": false,
     "input": [
      "phone_numbers['co-workers']"
     ],
     "language": "python",
     "metadata": {},
     "outputs": [
      {
       "ename": "KeyError",
       "evalue": "'co-workers'",
       "output_type": "pyerr",
       "traceback": [
        "\u001b[0;31m---------------------------------------------------------------------------\u001b[0m\n\u001b[0;31mKeyError\u001b[0m                                  Traceback (most recent call last)",
        "\u001b[0;32m/Users/jbloom/Classes/python-bootcamp/DataFiles_and_Notebooks/02_AdvancedDataStructures/<ipython-input-86-92d1a5b9b960>\u001b[0m in \u001b[0;36m<module>\u001b[0;34m()\u001b[0m\n\u001b[0;32m----> 1\u001b[0;31m \u001b[0mphone_numbers\u001b[0m\u001b[0;34m[\u001b[0m\u001b[0;34m'co-workers'\u001b[0m\u001b[0;34m]\u001b[0m\u001b[0;34m\u001b[0m\u001b[0m\n\u001b[0m",
        "\u001b[0;31mKeyError\u001b[0m: 'co-workers'"
       ]
      }
     ],
     "prompt_number": 86
    },
    {
     "cell_type": "code",
     "collapsed": false,
     "input": [
      "phone_numbers.has_key('co-workers')"
     ],
     "language": "python",
     "metadata": {},
     "outputs": [
      {
       "output_type": "pyout",
       "prompt_number": 87,
       "text": [
        "False"
       ]
      }
     ],
     "prompt_number": 87
    },
    {
     "cell_type": "code",
     "collapsed": false,
     "input": [
      "print phone_numbers.get('co-workers')\n",
      "print phone_numbers.get('family')"
     ],
     "language": "python",
     "metadata": {},
     "outputs": [
      {
       "output_type": "stream",
       "stream": "stdout",
       "text": [
        "None\n",
        "[('mom', '642-2322'), ('dad', '534-2311')]\n"
       ]
      }
     ],
     "prompt_number": 125
    },
    {
     "cell_type": "code",
     "collapsed": false,
     "input": [
      "phone_numbers.get('friends') == phone_numbers['friends']"
     ],
     "language": "python",
     "metadata": {},
     "outputs": [
      {
       "metadata": {},
       "output_type": "pyout",
       "prompt_number": 50,
       "text": [
        "True"
       ]
      }
     ],
     "prompt_number": 50
    },
    {
     "cell_type": "code",
     "collapsed": false,
     "input": [
      "print phone_numbers.get('co-workers', \"all alone\")"
     ],
     "language": "python",
     "metadata": {},
     "outputs": [
      {
       "output_type": "stream",
       "stream": "stdout",
       "text": [
        "all alone"
       ]
      }
     ],
     "prompt_number": 90
    },
    {
     "cell_type": "markdown",
     "metadata": {},
     "source": [
      "### Setting values\n",
      "\n",
      "you can edit the values of keys and also `.pop()` & `del` to remove certain keys"
     ]
    },
    {
     "cell_type": "code",
     "collapsed": false,
     "input": [
      "# add to the friends list\n",
      "phone_numbers['friends'].append((\"Marsha\",\"232-1121\"))\n",
      "print phone_numbers"
     ],
     "language": "python",
     "metadata": {},
     "outputs": [
      {
       "output_type": "stream",
       "stream": "stdout",
       "text": [
        "{'friends': [('Billy', '652-2212'), ('Marsha', '232-1121')], 'family': [('mom', '642-2322'), ('dad', '534-2311')]}\n"
       ]
      }
     ],
     "prompt_number": 126
    },
    {
     "cell_type": "code",
     "collapsed": false,
     "input": [
      "## billy's number changed\n",
      "phone_numbers['friends'][0][1] = \"532-1521\" #tuple is immutable"
     ],
     "language": "python",
     "metadata": {},
     "outputs": [
      {
       "ename": "TypeError",
       "evalue": "'tuple' object does not support item assignment",
       "output_type": "pyerr",
       "traceback": [
        "\u001b[0;31m---------------------------------------------------------------------------\u001b[0m\n\u001b[0;31mTypeError\u001b[0m                                 Traceback (most recent call last)",
        "\u001b[0;32m<ipython-input-127-564c1535cc4d>\u001b[0m in \u001b[0;36m<module>\u001b[0;34m()\u001b[0m\n\u001b[1;32m      1\u001b[0m \u001b[0;31m## billy's number changed\u001b[0m\u001b[0;34m\u001b[0m\u001b[0;34m\u001b[0m\u001b[0m\n\u001b[0;32m----> 2\u001b[0;31m \u001b[0mphone_numbers\u001b[0m\u001b[0;34m[\u001b[0m\u001b[0;34m'friends'\u001b[0m\u001b[0;34m]\u001b[0m\u001b[0;34m[\u001b[0m\u001b[0;36m0\u001b[0m\u001b[0;34m]\u001b[0m\u001b[0;34m[\u001b[0m\u001b[0;36m1\u001b[0m\u001b[0;34m]\u001b[0m \u001b[0;34m=\u001b[0m \u001b[0;34m\"532-1521\"\u001b[0m\u001b[0;34m\u001b[0m\u001b[0m\n\u001b[0m",
        "\u001b[0;31mTypeError\u001b[0m: 'tuple' object does not support item assignment"
       ]
      }
     ],
     "prompt_number": 127
    },
    {
     "cell_type": "code",
     "collapsed": true,
     "input": [
      "phone_numbers['friends'][0] = (\"Billy\",\"532-1521\")"
     ],
     "language": "python",
     "metadata": {},
     "outputs": [],
     "prompt_number": 128
    },
    {
     "cell_type": "code",
     "collapsed": true,
     "input": [
      "## I lost all my friends preparing for this Python class\n",
      "phone_numbers['friends'] = [] # sets this to an empty list"
     ],
     "language": "python",
     "metadata": {},
     "outputs": [],
     "prompt_number": 129
    },
    {
     "cell_type": "code",
     "collapsed": false,
     "input": [
      "## remove the friends key altogether\n",
      "print phone_numbers.pop('friends')"
     ],
     "language": "python",
     "metadata": {},
     "outputs": [
      {
       "output_type": "stream",
       "stream": "stdout",
       "text": [
        "[]\n"
       ]
      }
     ],
     "prompt_number": 130
    },
    {
     "cell_type": "code",
     "collapsed": false,
     "input": [
      "print phone_numbers"
     ],
     "language": "python",
     "metadata": {},
     "outputs": [
      {
       "output_type": "stream",
       "stream": "stdout",
       "text": [
        "{'family': [('mom', '642-2322'), ('dad', '534-2311')]}\n"
       ]
      }
     ],
     "prompt_number": 131
    },
    {
     "cell_type": "code",
     "collapsed": true,
     "input": [
      "del phone_numbers['family']"
     ],
     "language": "python",
     "metadata": {},
     "outputs": [],
     "prompt_number": 132
    },
    {
     "cell_type": "code",
     "collapsed": false,
     "input": [
      "print phone_numbers"
     ],
     "language": "python",
     "metadata": {},
     "outputs": [
      {
       "output_type": "stream",
       "stream": "stdout",
       "text": [
        "{}\n"
       ]
      }
     ],
     "prompt_number": 133
    },
    {
     "cell_type": "markdown",
     "metadata": {},
     "source": [
      "`.update()` method is very handy, like `.append()` for lists"
     ]
    },
    {
     "cell_type": "code",
     "collapsed": false,
     "input": [
      "phone_numbers.update({\"friends\": [(\"Billy's Brother, Bob\", \"532-1521\")]})\n",
      "print phone_numbers"
     ],
     "language": "python",
     "metadata": {},
     "outputs": [
      {
       "output_type": "stream",
       "stream": "stdout",
       "text": [
        "{'friends': [(\"Billy's Brother, Bob\", '532-1521')]}\n"
       ]
      }
     ],
     "prompt_number": 134
    },
    {
     "cell_type": "markdown",
     "metadata": {},
     "source": [
      "### Dictionaries are used everywhere within Python..."
     ]
    },
    {
     "cell_type": "code",
     "collapsed": false,
     "input": [
      "# globals() and locals() store all global and local variables\n",
      "print globals().keys()[:10]"
     ],
     "language": "python",
     "metadata": {},
     "outputs": [
      {
       "output_type": "stream",
       "stream": "stdout",
       "text": [
        "['__', 'help', '_53', '_52', '_51', '_50', '_i53', '_i52', '__builtin__', '_i50']\n"
       ]
      }
     ],
     "prompt_number": 55
    },
    {
     "cell_type": "markdown",
     "metadata": {},
     "source": [
      "## List Comprehensions\n",
      "\n",
      "### A pythonic way of creating lists on-the-fly"
     ]
    },
    {
     "cell_type": "markdown",
     "metadata": {},
     "source": [
      "**Example:** imagine you want a list of all numbers from 0 to 100 which are divisible by 7 **or** 11"
     ]
    },
    {
     "cell_type": "code",
     "collapsed": false,
     "input": [
      "%%timeit\n",
      "L = []\n",
      "for num in range(100):\n",
      "    if (num % 7 == 0) or (num % 11 == 0):\n",
      "        L.append(num)\n",
      "#print L"
     ],
     "language": "python",
     "metadata": {},
     "outputs": [
      {
       "output_type": "stream",
       "stream": "stdout",
       "text": [
        "100000 loops, best of 3: 18.2 \u00b5s per loop\n"
       ]
      },
      {
       "output_type": "stream",
       "stream": "stdout",
       "text": [
        "10000 loops, best of 3: 22.3 \u00b5s per loop\n"
       ]
      }
     ],
     "prompt_number": 137
    },
    {
     "cell_type": "markdown",
     "metadata": {},
     "source": [
      "We can also do this with a list comprehension:"
     ]
    },
    {
     "cell_type": "code",
     "collapsed": false,
     "input": [
      "%%timeit\n",
      "L = [num for num in range(100) \n",
      "     if (num % 7 == 0) or (num % 11 == 0)]\n",
      "#print L"
     ],
     "language": "python",
     "metadata": {},
     "outputs": [
      {
       "output_type": "stream",
       "stream": "stdout",
       "text": [
        "10000 loops, best of 3: 19.7 \u00b5s per loop\n"
       ]
      }
     ],
     "prompt_number": 138
    },
    {
     "cell_type": "code",
     "collapsed": false,
     "input": [
      "# Can also operate on each element:\n",
      "L = [2 * num for num in range(100) if (num % 7 == 0) or (num % 11 == 0)]\n",
      "print L"
     ],
     "language": "python",
     "metadata": {},
     "outputs": [
      {
       "output_type": "stream",
       "stream": "stdout",
       "text": [
        "[0, 14, 22, 28, 42, 44, 56, 66, 70, 84, 88, 98, 110, 112, 126, 132, 140, 154, 168, 176, 182, 196, 198]\n"
       ]
      }
     ],
     "prompt_number": 70
    },
    {
     "cell_type": "markdown",
     "metadata": {},
     "source": [
      "**Example:** Below is a list of information on 50 of the largest near-earth asteroids.\n",
      "Given this list of asteroid information, let's find all asteroids with semi-major axis within 0.2AU of earth, and with eccentricities less than 0.5"
     ]
    },
    {
     "cell_type": "code",
     "collapsed": false,
     "input": [
      "# Each element is (name, semi-major axis (AU), eccentricity, orbit class)\n",
      "# source: http://ssd.jpl.nasa.gov/sbdb_query.cgi\n",
      "\n",
      "Asteroids = [('Eros', 1.457916888347732, 0.2226769029627053, 'AMO'),\n",
      "             ('Albert', 2.629584157344544, 0.551788195302116, 'AMO'),\n",
      "             ('Alinda', 2.477642943521562, 0.5675993715753302, 'AMO'),\n",
      "             ('Ganymed', 2.662242764279804, 0.5339300994578989, 'AMO'),\n",
      "             ('Amor', 1.918987277620309, 0.4354863345648127, 'AMO'),\n",
      "             ('Icarus', 1.077941311539208, 0.826950446001521, 'APO'),\n",
      "             ('Betulia', 2.196489260519891, 0.4876246891992282, 'AMO'),\n",
      "             ('Geographos', 1.245477192797457, 0.3355407124897842, 'APO'),\n",
      "             ('Ivar', 1.862724540418448, 0.3968541470639658, 'AMO'),\n",
      "             ('Toro', 1.367247622946547, 0.4358829575017499, 'APO'),\n",
      "             ('Apollo', 1.470694262588244, 0.5598306817483757, 'APO'),\n",
      "             ('Antinous', 2.258479598510079, 0.6070051516585434, 'APO'),\n",
      "             ('Daedalus', 1.460912865705988, 0.6144629118218898, 'APO'),\n",
      "             ('Cerberus', 1.079965807367047, 0.4668134997419173, 'APO'),\n",
      "             ('Sisyphus', 1.893726635847921, 0.5383319204425762, 'APO'),\n",
      "             ('Quetzalcoatl', 2.544270656955212, 0.5704591861565643, 'AMO'),\n",
      "             ('Boreas', 2.271958775354725, 0.4499332278634067, 'AMO'),\n",
      "             ('Cuyo', 2.150453953345012, 0.5041719257675564, 'AMO'),\n",
      "             ('Anteros', 1.430262719980132, 0.2558054402785934, 'AMO'),\n",
      "             ('Tezcatlipoca', 1.709753263222791, 0.3647772103513082, 'AMO'),\n",
      "             ('Midas', 1.775954494579457, 0.6503697243919138, 'APO'),\n",
      "             ('Baboquivari', 2.646202507670927, 0.5295611095751231, 'AMO'),\n",
      "             ('Anza', 2.26415089613359, 0.5371603112900858, 'AMO'),\n",
      "             ('Aten', 0.9668828078092987, 0.1827831025175614, 'ATE'),\n",
      "             ('Bacchus', 1.078135348117527, 0.3495569270441645, 'APO'),\n",
      "             ('Ra-Shalom', 0.8320425524852308, 0.4364726062545577, 'ATE'),\n",
      "             ('Adonis', 1.874315684524321, 0.763949321566, 'APO'),\n",
      "             ('Tantalus', 1.289997492877751, 0.2990853014998932, 'APO'),\n",
      "             ('Aristaeus', 1.599511990737142, 0.5030618532252225, 'APO'),\n",
      "             ('Oljato', 2.172056090036035, 0.7125729402616418, 'APO'),\n",
      "             ('Pele', 2.291471988746353, 0.5115484924883255, 'AMO'),\n",
      "             ('Hephaistos', 2.159619960333728, 0.8374146846143349, 'APO'),\n",
      "             ('Orthos', 2.404988778495748, 0.6569133796135244, 'APO'),\n",
      "             ('Hathor', 0.8442121506103012, 0.4498204013480316, 'ATE'),\n",
      "             ('Beltrovata', 2.104690977122337, 0.413731105995413, 'AMO'),\n",
      "             ('Seneca', 2.516402574514213, 0.5708728441169761, 'AMO'),\n",
      "             ('Krok', 2.152545170235639, 0.4478259793515817, 'AMO'),\n",
      "             ('Eger', 1.404478323548423, 0.3542971360331806, 'APO'),\n",
      "             ('Florence', 1.768227407864309, 0.4227761019048867, 'AMO'),\n",
      "             ('Nefertiti', 1.574493139339916, 0.283902719273878, 'AMO'),\n",
      "             ('Phaethon', 1.271195939723604, 0.8898716672181355, 'APO'),\n",
      "             ('Ul', 2.102493486378346, 0.3951143067760007, 'AMO'),\n",
      "             ('Seleucus', 2.033331705805067, 0.4559159977082651, 'AMO'),\n",
      "             ('McAuliffe', 1.878722427225527, 0.3691521497610656, 'AMO'),\n",
      "             ('Syrinx', 2.469752836845105, 0.7441934504192601, 'APO'),\n",
      "             ('Orpheus', 1.209727780883745, 0.3229034563257626, 'APO'),\n",
      "             ('Khufu', 0.989473784873371, 0.468479627898914, 'ATE'),\n",
      "             ('Verenia', 2.093231870619781, 0.4865133359612604, 'AMO'),\n",
      "             ('\"Don Quixote\"', 4.221712367193639, 0.7130894892477316, 'AMO'),\n",
      "             ('Mera', 1.644476057737928, 0.3201425983025733, 'AMO')]\n",
      "\n",
      "orbit_class = {'AMO':'Amor', 'APO':'Apollo', 'ATE':'Aten'}"
     ],
     "language": "python",
     "metadata": {},
     "outputs": [],
     "prompt_number": 140
    },
    {
     "cell_type": "code",
     "collapsed": false,
     "input": [
      "# first we'll build the list using loops.\n",
      "L = []\n",
      "for data in Asteroids:\n",
      "    name, a, e, t = data\n",
      "    if abs(a - 1) < 0.2 and e < 0.5:\n",
      "        L.append(name)\n",
      "print L"
     ],
     "language": "python",
     "metadata": {},
     "outputs": [
      {
       "output_type": "stream",
       "stream": "stdout",
       "text": [
        "['Cerberus', 'Aten', 'Bacchus', 'Ra-Shalom', 'Hathor', 'Khufu']\n"
       ]
      }
     ],
     "prompt_number": 141
    },
    {
     "cell_type": "code",
     "collapsed": false,
     "input": [
      "# now with a list comprehension...\n",
      "L = [name for (name, a, e,t) in Asteroids if abs(a - 1) < 0.2 and e < 0.5]\n",
      "print L"
     ],
     "language": "python",
     "metadata": {},
     "outputs": [
      {
       "output_type": "stream",
       "stream": "stdout",
       "text": [
        "['Cerberus', 'Aten', 'Bacchus', 'Ra-Shalom', 'Hathor', 'Khufu']\n"
       ]
      }
     ],
     "prompt_number": 143
    },
    {
     "cell_type": "markdown",
     "metadata": {},
     "source": [
      "Here is how we could create a dictionary from the list"
     ]
    },
    {
     "cell_type": "code",
     "collapsed": false,
     "input": [
      "D = dict([(name, (a, e)) for (name, a, e,t) in Asteroids])\n",
      "print D['Eros']\n",
      "print D['Amor']"
     ],
     "language": "python",
     "metadata": {},
     "outputs": [
      {
       "output_type": "stream",
       "stream": "stdout",
       "text": [
        "(1.457916888347732, 0.2226769029627053)\n",
        "(1.918987277620309, 0.4354863345648127)\n"
       ]
      }
     ],
     "prompt_number": 145
    },
    {
     "cell_type": "code",
     "collapsed": false,
     "input": [
      "#sorted(Asteroids, key=lambda name: name[0])   # sort by 0th\n",
      "\n",
      "for name, a, e, i in sorted(Asteroids):\n",
      "        print name, a, e, i\n",
      "        \n",
      "print \"*\" * 40        \n",
      "def get_sort_key(val):\n",
      "    return val[1]\n",
      "\n",
      "for name, a, e, i in sorted(Asteroids, key=get_sort_key):\n",
      "    print name, a, e, i\n",
      "    \n",
      "def mycmp(val1, val2):\n",
      "    return cmp(val1[1],val2[1]) #cmp is a generalized inequality\n",
      "\n",
      "#sorted(Asteroids, key=lambda a:a[0])\n",
      "\n",
      "\n"
     ],
     "language": "python",
     "metadata": {},
     "outputs": [
      {
       "ename": "TypeError",
       "evalue": "not enough arguments for format string",
       "output_type": "pyerr",
       "traceback": [
        "\u001b[0;31m---------------------------------------------------------------------------\u001b[0m\n\u001b[0;31mTypeError\u001b[0m                                 Traceback (most recent call last)",
        "\u001b[0;32m<ipython-input-188-f9613170a057>\u001b[0m in \u001b[0;36m<module>\u001b[0;34m()\u001b[0m\n\u001b[1;32m      2\u001b[0m \u001b[0;34m\u001b[0m\u001b[0m\n\u001b[1;32m      3\u001b[0m \u001b[0;32mfor\u001b[0m \u001b[0mname\u001b[0m\u001b[0;34m,\u001b[0m \u001b[0ma\u001b[0m\u001b[0;34m,\u001b[0m \u001b[0me\u001b[0m\u001b[0;34m,\u001b[0m \u001b[0mi\u001b[0m \u001b[0;32min\u001b[0m \u001b[0msorted\u001b[0m\u001b[0;34m(\u001b[0m\u001b[0mAsteroids\u001b[0m\u001b[0;34m)\u001b[0m\u001b[0;34m:\u001b[0m\u001b[0;34m\u001b[0m\u001b[0m\n\u001b[0;32m----> 4\u001b[0;31m         \u001b[0;32mprint\u001b[0m \u001b[0;34m\"%020s %.4f %.4f %s\"\u001b[0m \u001b[0;34m%\u001b[0m \u001b[0mname\u001b[0m\u001b[0;34m,\u001b[0m \u001b[0ma\u001b[0m\u001b[0;34m,\u001b[0m \u001b[0me\u001b[0m\u001b[0;34m,\u001b[0m \u001b[0mi\u001b[0m\u001b[0;34m\u001b[0m\u001b[0m\n\u001b[0m\u001b[1;32m      5\u001b[0m \u001b[0;34m\u001b[0m\u001b[0m\n\u001b[1;32m      6\u001b[0m \u001b[0;32mprint\u001b[0m \u001b[0;34m\"*\"\u001b[0m \u001b[0;34m*\u001b[0m \u001b[0;36m40\u001b[0m\u001b[0;34m\u001b[0m\u001b[0m\n",
        "\u001b[0;31mTypeError\u001b[0m: not enough arguments for format string"
       ]
      }
     ],
     "prompt_number": 188
    },
    {
     "cell_type": "markdown",
     "metadata": {},
     "source": [
      "# Breakout #2: Sorting Asteroids\n",
      "\n",
      "Using the above Asteroid list,\n",
      "\n",
      "- print the list sorted in alphabetical order by asteroid name\n",
      "  (hint: how does sorting handle a list of tuples?)\n",
      "- print the list sorted by semi-major axis\n",
      "- print the list sorted by name, but replace the class code with the class name\n",
      "\n",
      "The output should be formatted like this:\n",
      "\n",
      "    Asteroid name    a (AU)    e        class\n",
      "    -----------------------------------------\n",
      "    Eros             1.4578    0.2226   APO\n",
      "    Albert           2.6292    0.5518   APO\n",
      "    .\n",
      "    .\n",
      "    .\n",
      "\n",
      "Bonus points if you can get the columns to line up nicely!"
     ]
    }
   ],
   "metadata": {}
  }
 ]
}